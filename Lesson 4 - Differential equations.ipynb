{
 "cells": [
  {
   "cell_type": "markdown",
   "metadata": {},
   "source": [
    "## Lesson 4 - Differential equations"
   ]
  },
  {
   "cell_type": "markdown",
   "metadata": {},
   "source": [
    "**Authors:**\n",
    "* Yilber Fabian Bautista\n",
    "* Alejandro Cruz-Osorio\n",
    "* Keiwan Jamaly\n",
    "* Sean Tulin"
   ]
  },
  {
   "cell_type": "markdown",
   "metadata": {},
   "source": [
    "Differential equations are ubiquitous in physics, and moreover come in many different types. \n",
    "Depending on whether you have ordinary or partial differential equations, an initial value problem or boundary value problem, linear or nonlinear equations, and depending on the order, there are different methods and tools for finding solutions.\n",
    "\n",
    "Here we learn how to solve an initial value problems (IVP) for ordinary differential equations (ODEs). That is, we are solving for function(s) of one independent variable (say, time $t$), where the boundary condition(s) are imposed at some initial time $t_0$ and we are solving for what happens at later times $t > t_0$.\n",
    "The numerical methods described here can be applied to linear or nonlinear systems of ODEs of *any order*.\n",
    "\n",
    "There is an existing function `scipy.integrate.solve_ivp` within the scipy library that does this already. It is recommended that you use this function for all your IVP needs. We also describe some of the theoretical background for numerical solutions to IVPs to provide some greater context for how `scipy.integrate.solve_ivp` works.\n",
    "\n",
    "**Objectives:** \n",
    "\n",
    "By the end of this lecture you will be able to:\n",
    "\n",
    "* Use the **Euler** and **Runge-Kutta** methods to solve numerically IVPs for ODEs.\n",
    "* Solve first-order and higher-order ODEs using `scipy.integrate.solve_ivp`."
   ]
  },
  {
   "cell_type": "markdown",
   "metadata": {},
   "source": [
    "## Introduction: Euler method\n",
    "\n",
    "Imagine we want to calculate the shape of an unknown curve which starts at a given point $A_0$ at $t_0$ and satisfies a given differential equation. The Euler method is the simplest algorithm for solving such a problem. \n",
    "It approximates the unknown curve as follows:\n",
    "\n",
    "Starting at the initial value $A_0$ at $t_0$, from the differential equation we can compute the slope of a tangent line to the curve at $t_0$, and so, the tangent line itself. \n",
    "We then take a small step along our  tangent line until we reach the point $A_1$ at $t_1$. For a $t$-step small enough, the slope of the curve does not change too much in this $t$-displacement and therefore $A_1$ is still close to the curve. We can then repeat the reasoning as for $A_0$, that is,  taking $A_1$ as our initial value, and from the differential equation compute the slope of a tangent line to the curve at $t_1$, then move along the new tangent line until reaching $A_2$ at $t_2$. The process is then repeated until we reach the final time $t_n$, at which we would like to know the value of the unknown value of the  curve $A_n$. \n",
    "Schematically this is:\n",
    "\n",
    "![Euler Example](Figures/Euler_method.png)"
   ]
  },
  {
   "cell_type": "markdown",
   "metadata": {},
   "source": [
    "Figure taken from  [here](https://en.wikipedia.org/wiki/Euler_method)\n",
    "\n",
    "The Euler method is a first-order method. This means that the local error (or the error per step) is proportional to the square of the step size, whereas the global error (the error at a given $t$) is proportional to the step size $\\Delta t$.\n",
    "\n",
    "What we just described in words can be made precise with equations. Given an ODE and boundary condition\n",
    "\n",
    "$$\n",
    "y'(t) = f(t,y),\\quad y(t_0)=y_0,\n",
    "$$\n",
    "\n",
    "we choose a value $h$ for the step size so that for $t_i = t_0+i h$, where $i$ in an integer counting how many steps we have taken. After one step in the Euler method, from $t_i$ to $t_{i+1} = t_i+h$, we evaluate $y(t_{i+1}) = y_{i+1}$ by Taylor expanding around $h=0$: \n",
    "\n",
    "$$y(t_{i+1}) = y(t_i) + y'(t_i) h +\\mathcal{O}(h^2) \\, .$$ \n",
    "\n",
    "We replace $y'(t_i)$ by the r.h.s. of the differential equation:\n",
    "\n",
    "$$\n",
    "y(t_i+1) = y(t_i) + f(t_i,y(t_i)) h +\\mathcal{O}(h^2)\n",
    "$$\n",
    "\n",
    "or in a index notation\n",
    "\n",
    "$$\n",
    "y_{i+1} = y_{i}+ f(t_i,y_i) h +\\mathcal{O}(h^2)\n",
    "$$\n",
    "\n",
    "As an example, if the differential equation is\n",
    "\n",
    "$$y'(t) = -y(t)$$\n",
    "\n",
    "we can set the function $f(t, y)$ to be\n",
    "\n",
    "$$f(t,y) = -y(t) \\, .$$"
   ]
  },
  {
   "cell_type": "code",
   "execution_count": 1,
   "metadata": {},
   "outputs": [],
   "source": [
    "import numpy as np\n",
    "\n",
    "def Euler(t_min,t_max,n,y_0):\n",
    "    #Define a t-array\n",
    "    t = np.linspace(t_min,t_max, num=n)\n",
    "    #step size\n",
    "    h = t[1] - t[0]\n",
    "    #Initialize an array to save the values of y\n",
    "    y = np.zeros(n)\n",
    "    #Set initial condition\n",
    "    y[0] = y_0\n",
    "    #write the Euler method\n",
    "    for i in range(n - 1):\n",
    "        y[i+1] = y[i] + h*(-y[i])\n",
    "    \n",
    "    return y"
   ]
  },
  {
   "cell_type": "markdown",
   "metadata": {},
   "source": [
    "Let us now use the method in an specific example"
   ]
  },
  {
   "cell_type": "code",
   "execution_count": 2,
   "metadata": {},
   "outputs": [
    {
     "data": {
      "image/png": "[encoded data removed]",
      "text/plain": [
       "<Figure size 432x288 with 1 Axes>"
      ]
     },
     "metadata": {
      "needs_background": "light"
     },
     "output_type": "display_data"
    }
   ],
   "source": [
    "import matplotlib.pyplot as plt\n",
    "\n",
    "t_min = 0.\n",
    "t_max = 10.\n",
    "n = 30 # Total number of steps\n",
    "y_0 = 1.\n",
    "\n",
    "\n",
    "#use Euler method\n",
    "sol = Euler(t_min,t_max,n,y_0)\n",
    "\n",
    "#compare to the analytic solution y[t] = Exp(-t)\n",
    "t = np.linspace(t_min,t_max, num=n)\n",
    "a_sol = np.exp(-t)\n",
    "\n",
    "#plot the findings\n",
    "\n",
    "plt.plot(t, sol, label=\"numeric solution\")\n",
    "plt.plot(t, a_sol, label=\"analytic solution\")\n",
    "plt.legend()\n",
    "plt.show()"
   ]
  },
  {
   "cell_type": "markdown",
   "metadata": {},
   "source": [
    "## Exercise 1\n",
    "Use the **Euler** method previously programed and vary the total number of steps $n$,  What happens for different step sizes?  Plot your findings using a `for` loop."
   ]
  },
  {
   "cell_type": "code",
   "execution_count": null,
   "metadata": {},
   "outputs": [],
   "source": [
    "# write your solution here"
   ]
  },
  {
   "cell_type": "markdown",
   "metadata": {},
   "source": [
    "## Exercise 2\n",
    "- Generalize the `Euler()` function defined above to take as input a general function $f(y,t)$ which is the function in the  r.h.s. of the differential equation: \n",
    "```\n",
    "Euler(f, t_min, t_max, n, y_0)\n",
    "```\n",
    "- As before, use your new `Euler()` function to solve for $f(y,t) = -y(t)$, with $y_0=1$. Your solution should agree with the previous results. \n",
    "- Using your new `Euler()` function, solve the differential equation\n",
    "    $$y'(t) = \\sin(t)+y(t)$$\n",
    "with initial condition $$y(0) = 2. $$\n",
    "in the time interval $[0,10]$"
   ]
  },
  {
   "cell_type": "code",
   "execution_count": null,
   "metadata": {},
   "outputs": [],
   "source": [
    "# write your solution in here "
   ]
  },
  {
   "cell_type": "markdown",
   "metadata": {},
   "source": [
    "## Runge-Kutta method\n",
    "\n",
    "The Euler method is a first-order approximation and is less accurate than higher-order methods for a fixed step size. Therefore, to achieve a desired accuracy in a numerical calculation, the Euler method requires many more steps (and therefore much longer computing time) while a higher-order method can be much more efficient.\n",
    "\n",
    "For better approximations, we can use [Runge-Kutta (RK) methods](https://en.wikipedia.org/wiki/Runge%E2%80%93Kutta_methods). RK4 is a *fourth-order* numerical solution, which means that the local error (per step) is $\\mathcal{O}(h^5)$ and the global error (after all steps) is $\\mathcal{O}(h^4)$.\n",
    "\n",
    "Let's describe how the algorithm works. Here is our ODE and boundary condition:\n",
    "\n",
    "$$ y'(t) = f(t,y),\\quad y(t_0)=y_0 $$\n",
    "\n",
    "Similar to the Euler method, you define a step size $h$ and then iterate from $y_0$ to $y_1$ to $y_2$, etc. From each step $t_i$ and $y_i$, the subsequent step is computed as\n",
    "\n",
    "$$y_{i+1} = y_i + h\\left( \\frac{k_1}{6} + \\frac{k_2}{3} + \\frac{k_3}{3} + \\frac{k_4}{6} \\right)$$\n",
    "\n",
    "where $k_1, k_2, k_3, k_4$ are \n",
    "\n",
    "\\begin{align*}\n",
    "k_1 &= f(t_i,y_i) \\\\\n",
    "k_2 &= f(t_i+\\frac{h}{2}, y_i + \\frac{h}{2} k_1) \\\\\n",
    "k_3 &= f(t_i+\\frac{h}{2}, y_i + \\frac{h}{2} k_2) \\\\\n",
    "k_4 &= f(t_i+h, y_i + h k_3) \\, .\n",
    "\\end{align*} \n",
    "\n",
    "It is rather complicated to show that the errors do indeed cancel out up to $\\mathcal{O}(h^5)$, so we omit it here.\n",
    "\n",
    "Note that for each step we have to evaluate $f(t,y)$ *four times*, whereas for the Euler method we only evaluated $f(t,y)$ *once* per step. This is a generic feature of higher-order methods: each step requires more function evaluations (more computing time), but because it is more accurate, much fewer steps are required to achieve the same accuracy."
   ]
  },
  {
   "cell_type": "markdown",
   "metadata": {},
   "source": [
    "## Exercise 3 (optional)\n",
    "1. Similar to Exercise 1, create a program `Runge_Kutta()` that implements this method for a general input function $f(y,t)$.\n",
    "2. Use your Runge_Kutta() function to solve the differential equation\n",
    " $$y'(t) = \\sin(t)+y(t)$$\n",
    "with initial condition $$y(0) = 2. $$\n",
    "in the time interval $[0,10]$. Plot your findings and compare them with the solution from the Euler method for different t-resolutions  "
   ]
  },
  {
   "cell_type": "code",
   "execution_count": null,
   "metadata": {},
   "outputs": [],
   "source": [
    "# here goes your solution"
   ]
  },
  {
   "cell_type": "markdown",
   "metadata": {},
   "source": [
    "## ODE solvers in `scipy` library\n",
    "\n",
    "Now that we have gain some intuition on how numeric methods for solving first order differential equations work, we want to take advantage of existing methods in the `scipy` library. There are two ODE solvers: [odeint](https://docs.scipy.org/doc/scipy/reference/generated/scipy.integrate.odeint.html) and [solve_ivp](https://docs.scipy.org/doc/scipy/reference/generated/scipy.integrate.solve_ivp.html). `odeint` is outdated so we will not show it here, but there are good examples in the documentation and later on in case you are working with old code bases."
   ]
  },
  {
   "cell_type": "markdown",
   "metadata": {},
   "source": [
    "### `solve_ivp`\n",
    "\n",
    "`scipy.integrate.solve_ivp` implements many methods for solving IVPs, which can be chosen by the user (see [documentation](https://docs.scipy.org/doc/scipy/reference/generated/scipy.integrate.solve_ivp.html)). \n",
    "\n",
    "\n",
    "The default method is **RK45** with an adaptive step size $h$ that is adjusted automatically to maintain a desired level of accuracy for each step. In this method, the solver performs both RK4 and RK5 for each step, comparing the results to estimate the error-per-step. If the error falls within the desired error tolerance, the solver continues iterating. If the error is too large, the solver tries again with a smaller $h$. \n",
    "\n",
    "We will now give an example of how to use `solve_ivp`. Say we want to solve the differential equation \n",
    "\n",
    "$$\n",
    "y'(t) = y_0 - k y\n",
    "$$\n",
    "\n",
    "where $k$ is a constant. First, we rewrite the equation in the generic form $y'(t) = f(t,y)$ where\n",
    "\n",
    "$$\n",
    "f(t, y) = y_0 - k y \\, .\n",
    "$$\n",
    "\n",
    "The syntax for solving ODEs using `solve_ivp` is the following:\n",
    "\n",
    "```py\n",
    "scipy.integrate.solve_ivp(fun, t_span, y0)\n",
    "```\n",
    "\n",
    "* `fun`: function $f(t,y)$ that returns the derivative of $y$. Note `fun(t,y)` must have two arguments: the first argument is the *independent* variable `t`, the second argument is the *dependent* variable `y`\n",
    "* `t_span`: range `[t0,tf]` where $t_0$ is the initial time and $t_f$ is the final time\n",
    "* `y0`: initial condition. Note `y0` *must be a list or array*. If we are solving for just one function, we would write `[y0]` as the initial condition.\n"
   ]
  },
  {
   "cell_type": "code",
   "execution_count": 3,
   "metadata": {},
   "outputs": [
    {
     "data": {
      "image/png": "[encoded data removed]",
      "text/plain": [
       "<Figure size 576x432 with 1 Axes>"
      ]
     },
     "metadata": {
      "needs_background": "light"
     },
     "output_type": "display_data"
    }
   ],
   "source": [
    "import numpy as np\n",
    "import scipy.integrate as integrate\n",
    "import matplotlib.pyplot as plt\n",
    "\n",
    "# initial condition\n",
    "y_0 = 5\n",
    "\n",
    "k = 1.5\n",
    "\n",
    "# Function that returns the right hand side of the ODE dy/dt = y'[t]\n",
    "# Note the order of the arguments in the definition is important\n",
    "def f(t,y):\n",
    "    dydt = -k * y + y_0\n",
    "    return dydt\n",
    "\n",
    "# solve ODE\n",
    "result = integrate.solve_ivp(f, [0,25], [y_0])\n",
    "\n",
    "# plot results\n",
    "fig = plt.figure(figsize=(8,6))\n",
    "plt.plot(result.t, result.y[0], 'r')\n",
    "plt.xlabel(r'$\\rm x$')\n",
    "plt.ylabel(r'$\\rm y$')\n",
    "plt.show()"
   ]
  },
  {
   "cell_type": "markdown",
   "metadata": {},
   "source": [
    "What exactly does `solve_ivp` return? Let's check by evaluating its type:"
   ]
  },
  {
   "cell_type": "code",
   "execution_count": 6,
   "metadata": {},
   "outputs": [
    {
     "data": {
      "text/plain": [
       "scipy.integrate._ivp.ivp.OdeResult"
      ]
     },
     "execution_count": 6,
     "metadata": {},
     "output_type": "execute_result"
    }
   ],
   "source": [
    "type(result)"
   ]
  },
  {
   "cell_type": "markdown",
   "metadata": {},
   "source": [
    "This object named `result` organizes our numerical solution. (To be more precise, it is an instance of a class.)\n",
    "We can call the information contained therein with the following syntax:\n",
    "\n",
    "- `result.t` returns a list of $t$ values between $t_0$ and $t_f$\n",
    "- `result.y` returns a list of $y(t)$ values at those $t$ values. In general, we need to index *which* function we want to return, so we write `result.y[0]` to get the first function. If we were solving for two functions, they would be `result.y[0]` and `result.y[1]`.\n"
   ]
  },
  {
   "cell_type": "markdown",
   "metadata": {},
   "source": [
    "## Second-order ODEs\n",
    "\n",
    "`solve_ivp` can be used to solve higher-order IVPs. If we have an ODE of order $n$, we simply need to rewrite it as a system of $n$ coupled first-order ODEs.\n",
    "\n",
    "For instance, imagine we want to solve the following second-order ODE\n",
    "\n",
    "\\begin{equation*}\n",
    "x''(t) + x'(t) + x(t) = 0\n",
    "\\end{equation*}\n",
    "\n",
    "We can define a new function $v(x) = x'(t)$ to rewrite the equations in the following form:\n",
    "\n",
    "\\begin{align*}\n",
    "x'(t) &= v(t) \\\\\n",
    "v'(t) &= - v(t) - x(t)\\,.\n",
    "\\end{align*}\n",
    "\n",
    "With this in mind, we can rewrite the coupled differential equation to the form\n",
    "\n",
    "\\begin{align*}\n",
    "y'(t) = f(t, y)\n",
    "\\end{align*}\n",
    "\n",
    "where\n",
    "\n",
    "$$\n",
    "y(t) = \n",
    "\\left(\\begin{array}{cc} \n",
    "x(t) \\\\ \n",
    "v(t)\n",
    "\\end{array}\\right)\n",
    "$$ \n",
    "\n",
    "and\n",
    "$$\n",
    "f(t,y) = \n",
    "\\left(\\begin{array}{cc} \n",
    "v(t) \\\\\n",
    "- v(t) - x(t)\n",
    "\\end{array}\\right) \\, .\n",
    "$$\n",
    "\n",
    "The following example shows how to solve this system from $t_0 = 0$ to $t_f = 8$, with initial conditions\n",
    "\n",
    "$$x(0) = 0 , \\quad v(0) = -1 \\, .$$\n",
    "\n",
    "Note the following:\n",
    "- `f(t,y)` takes as input a *list* or *array* for `y`, and it returns a list of the same dimensions as `y`. Note again the ordering of the arguments `t,y` is important.\n",
    "- `t_span` is $[t_0,t_f] = [0,8]$\n",
    "- The initial condition `y0` is written as a list of values $(x(t_0), v(t_0))$ for each of the functions we are solving for.\n"
   ]
  },
  {
   "cell_type": "code",
   "execution_count": 14,
   "metadata": {},
   "outputs": [
    {
     "data": {
      "image/png": "[encoded data removed]",
      "text/plain": [
       "<Figure size 432x288 with 1 Axes>"
      ]
     },
     "metadata": {
      "needs_background": "light"
     },
     "output_type": "display_data"
    }
   ],
   "source": [
    "from scipy.integrate import solve_ivp\n",
    "import matplotlib.pyplot as plt\n",
    "\n",
    "#Right hand side of the ODE\n",
    "def f(t, y):\n",
    "    x, v = y\n",
    "    dydt = [v, -v - x]\n",
    "    return dydt\n",
    "\n",
    "#Solve the system of ODEs\n",
    "result = solve_ivp(f, [0, 8], [0, -1])\n",
    "\n",
    "#Plot the results\n",
    "plt.plot(result.t, result.y[0], label='x')\n",
    "plt.plot(result.t, result.y[1], label='v')\n",
    "\n",
    "plt.legend()\n",
    "plt.show()"
   ]
  },
  {
   "cell_type": "markdown",
   "metadata": {},
   "source": [
    "As you can see, this look a little chunky. This is because `solve_ivp` only returns certain $t$ values. If you want `solve_ivp` to return more $t$ values, you have to specify this ahead of time using the `t_eval` argument. Now the plot is much nicer. "
   ]
  },
  {
   "cell_type": "code",
   "execution_count": 15,
   "metadata": {},
   "outputs": [
    {
     "data": {
      "image/png": "[encoded data removed]",
      "text/plain": [
       "<Figure size 432x288 with 1 Axes>"
      ]
     },
     "metadata": {
      "needs_background": "light"
     },
     "output_type": "display_data"
    }
   ],
   "source": [
    "import numpy as np\n",
    "\n",
    "t = np.linspace(0, 8, 100)\n",
    "\n",
    "result = solve_ivp(f, [0, 8], [0, -1], t_eval=t)\n",
    "\n",
    "#Plot the results\n",
    "plt.plot(result.t, result.y[0], label='x')\n",
    "plt.plot(result.t, result.y[1], label='v')\n",
    "\n",
    "plt.legend()\n",
    "plt.show()"
   ]
  },
  {
   "cell_type": "markdown",
   "metadata": {},
   "source": [
    "Note that including more points in `t_eval` does *not* change the accuracy of the calculation. It is simply a matter of how many points are reported by the solver. Typically, many more $t$ values are evaluated when the algorithm is run, as needed to achieve the level of accuracy, but these are hidden.\n",
    "\n",
    "Before we leave this example, it is useful to note that we can write $f(t,y)$ in a matrix form to make the calculation more compact. The function\n",
    "\n",
    "$$\n",
    "f(t,y) = \n",
    "\\left(\\begin{array}{cc} \n",
    "v(t) \\\\\n",
    "- v(t) - x(t)\n",
    "\\end{array}\\right)\n",
    "$$\n",
    "\n",
    "can be rewritten as a matrix vector multiplication\n",
    "\n",
    "$$\n",
    "f(t,y) = \n",
    "\\left(\\begin{array}{cc} \n",
    "0 & 1 \\\\\n",
    "-1 & -1\n",
    "\\end{array}\\right)\n",
    "y(t)\n",
    "$$\n",
    "\n",
    "With this, we can simplify the implementation of our ODE solution."
   ]
  },
  {
   "cell_type": "code",
   "execution_count": 16,
   "metadata": {},
   "outputs": [
    {
     "data": {
      "image/png": "[encoded data removed]",
      "text/plain": [
       "<Figure size 432x288 with 1 Axes>"
      ]
     },
     "metadata": {
      "needs_background": "light"
     },
     "output_type": "display_data"
    }
   ],
   "source": [
    "A = np.array([[0, 1], [-1, -1]])\n",
    "\n",
    "def f(t, y):\n",
    "    return A.dot(y)\n",
    "\n",
    "t = np.linspace(0, 8, 100)\n",
    "\n",
    "result = solve_ivp(f, [0, 8], [0, -1], t_eval=t)\n",
    "\n",
    "plt.plot(result.t, result.y[0], label='x')\n",
    "plt.plot(result.t, result.y[1], label='v')\n",
    "\n",
    "plt.legend()\n",
    "plt.show()"
   ]
  },
  {
   "cell_type": "markdown",
   "metadata": {},
   "source": [
    "## Exercise 4\n",
    "\n",
    "We want to solve a classical harmonic oscillator.\n",
    "\n",
    "\\begin{align*}\n",
    "\\frac{d^2\\theta(t)}{dt^2} &= - \\frac{g}{\\ell} \\theta(t) \n",
    "\\end{align*}\n",
    "\n",
    "Without loss of generality, we can set $g/\\ell = 1$ for convenience and we have\n",
    "\n",
    "\\begin{align*}\n",
    "\\frac{d^2\\theta(t)}{dt^2} &= - \\theta(t)\n",
    "\\end{align*}\n",
    "\n",
    "Your tasks are:\n",
    "1. Solve the IVP using `solve_ivp`, with initial condition $\\theta(0) = \\pi/4$ and $\\dot{\\theta}(0) = 0$. And plot your results. \n",
    "2. Calculate the period. Here you can be creative for finding the period. \n",
    "3. Compare the numerical solution with the analytical one. "
   ]
  },
  {
   "cell_type": "code",
   "execution_count": null,
   "metadata": {},
   "outputs": [],
   "source": [
    "# Write your solution here"
   ]
  },
  {
   "cell_type": "markdown",
   "metadata": {},
   "source": [
    "## Example: more coupled differential equations\n",
    "\n",
    "As a last example for Runge-Kutta, we want to solve the coupled differential equation. Let's imagine two frictionless point masses, connected by a spring which is relax at distance $d$. This system can be described by the following differential equation:\n",
    "\n",
    "\\begin{align*}\n",
    "\\frac{d^2x_1}{dt^2} + \\omega^2 (x_1(t) - x_2(t) - d) &= 0 \\\\\n",
    "\\frac{d^2x_2}{dt^2} + \\omega^2 (x_2(t) - x_1(t) + d) &= 0\n",
    "\\end{align*}\n",
    "\n",
    "We write these two second order differential equations as 4 first order differential equations by defining $v_1 = x'_1$ and $v_2 = x'_2$:\n",
    "\\begin{align*}\n",
    "x_1'(t) &= v_1(t) \\\\\n",
    "x_2'(t) &= v_2(t) \\\\\n",
    "v_1'(t) &= - \\omega^2 (x_1(t) - x_2(t) - d) \\\\\n",
    "v_2'(t) &= - \\omega^2 (x_2(t) - x_1(t) + d)\n",
    "\\end{align*}\n",
    "\n",
    "As you can see, this equation is an inhomogeneous system. \n",
    "\n",
    "So we get for $f(t,y)$ and $y(t)$:\n",
    "$$\n",
    "y(t) = \n",
    "\\left(\\begin{array}{cc} \n",
    "x_1(t) \\\\ \n",
    "x_2(t) \\\\\n",
    "v_1(t) \\\\\n",
    "v_2(t)\n",
    "\\end{array}\\right)\n",
    "$$ \n",
    "\n",
    "and\n",
    "$$\n",
    "f(t,y) = \n",
    "\\left(\\begin{array}{cccc} \n",
    "0 & 0 & 1 & 0 \\\\\n",
    "0 & 0 & 0 & 1 \\\\\n",
    "- \\omega^2 & \\omega^2 & 0 & 0 \\\\\n",
    "\\omega^2 & -\\omega^2 & 0 & 0  \\\\\n",
    "\\end{array} \\right)\n",
    "y(t)\n",
    "+ \\omega^2\n",
    "\\left(\\begin{array}{c}\n",
    "0 \\\\ 0 \\\\ -d \\\\ d\n",
    "\\end{array}\\right)\n",
    "$$\n",
    "\n",
    "We solve the couple differential equations for $\\omega = 1$, $d = 1$, $x_1(0) = d/2$, $x_2(0) = -d/2$, $x'_1(0) = 1$ and $x'_2(0) = 0$. \n"
   ]
  },
  {
   "cell_type": "code",
   "execution_count": 17,
   "metadata": {},
   "outputs": [
    {
     "data": {
      "text/plain": [
       "<matplotlib.legend.Legend at 0x1de31809580>"
      ]
     },
     "execution_count": 17,
     "metadata": {},
     "output_type": "execute_result"
    },
    {
     "data": {
      "image/png": "[encoded data removed]",
      "text/plain": [
       "<Figure size 432x288 with 1 Axes>"
      ]
     },
     "metadata": {
      "needs_background": "light"
     },
     "output_type": "display_data"
    }
   ],
   "source": [
    "import numpy as np\n",
    "from scipy.integrate import solve_ivp\n",
    "import matplotlib.pyplot as plt\n",
    "\n",
    "d = 1\n",
    "omega = 1\n",
    "t = np.linspace(0, 8, 100)\n",
    "\n",
    "B = np.array([[0, 0, 1, 0],\n",
    "              [0, 0, 0, 1],\n",
    "              [-omega**2, omega**2, 0, 0],\n",
    "              [omega**2, -omega**2, 0, 0]])\n",
    "\n",
    "def f(t, y):\n",
    "    return B.dot(y) - omega**2 * np.array([0, 0, -d, d])\n",
    "\n",
    "result = solve_ivp(f, [0, 8], [d/2, -d/2, 1, 0], t_eval=t)\n",
    "\n",
    "plt.plot(result.t, result.y[0], label=r'$x_1$')\n",
    "plt.plot(result.t, result.y[1], label=r'$x_2$')\n",
    "plt.legend()"
   ]
  },
  {
   "cell_type": "markdown",
   "metadata": {},
   "source": [
    "## Exercise 5 (Optional)\n",
    "\n",
    "With this exercise, we put everything together, what we have learned so far. We imagine two frictionless point masses, which are connected by a spring. In contrast to previous example, the left point mass is also connected to a solid wall. The system is described by the following differential equation:\n",
    "\n",
    "\\begin{align*}\n",
    "\\frac{d^2x_1}{dt^2} + \\omega_1^2 (x_1(t) - x_2(t) - d_1) + \\omega_2^2 (x_1(t) - d_2) &= 0 \\\\\n",
    "\\frac{d^2x_2}{dt^2} + \\omega_1^2 (x_2(t) - x_1(t) + d_1) &= 0\n",
    "\\end{align*}\n",
    "\n",
    "Solve the these equations for $\\omega_1 = 1$, $\\omega_2 = 1$, $d_1 = 1$, $d_2 = 1$, $x_1(0) = d_1$, $x_2(0) = d_1 + d_2$, $x'_1(0) = 1$ and $x'_2(0) = 0$."
   ]
  },
  {
   "cell_type": "code",
   "execution_count": null,
   "metadata": {},
   "outputs": [],
   "source": [
    "# your solution goes in here"
   ]
  }
 ],
 "metadata": {
  "interpreter": {
   "hash": "31f2aee4e71d21fbe5cf8b01ff0e069b9275f58929596ceb00d14d90e3e16cd6"
  },
  "kernelspec": {
   "display_name": "Python 3 (ipykernel)",
   "language": "python",
   "name": "python3"
  },
  "language_info": {
   "codemirror_mode": {
    "name": "ipython",
    "version": 3
   },
   "file_extension": ".py",
   "mimetype": "text/x-python",
   "name": "python",
   "nbconvert_exporter": "python",
   "pygments_lexer": "ipython3",
   "version": "3.9.12"
  }
 },
 "nbformat": 4,
 "nbformat_minor": 2
}
