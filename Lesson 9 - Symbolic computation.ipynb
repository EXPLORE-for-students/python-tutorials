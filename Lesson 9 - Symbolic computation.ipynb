{
 "cells": [
  {
   "cell_type": "markdown",
   "metadata": {},
   "source": [
    "# Lecture 9: Symbolic computation\n",
    "\n",
    "__Authors:__\n",
    "- David Klemmer\n",
    "- Sean Tulin\n",
    "\n",
    "__Objectives:__\n",
    "\n",
    "By the end of this lesson, you will be able to:\n",
    "\n",
    "- Use the __SymPy__ library to perform symbolic computations, including basic algebraic manipulations, matrix manipulation, and calculus\n",
    "\n",
    "## Introduction to SymPy\n",
    "\n",
    "SymPy is a Python library that is used to make symbolic computations. It provides similar functionality as Mathematica, Maple, and Matlab, but with the advantage that SymPy is free. Symbolic manipulation is not only used in research, but can be very helpful in your coursework to check theoretical calculations.\n",
    "\n",
    "This tutorial will give you a quick introduction to different functionalities of SymPy: \n",
    "- Defining variables and functions\n",
    "- Calculus of functions (differentiation and integration)\n",
    "- Solving ordinary differential equations \n",
    "- Algebraic and matrix manipulations\n",
    "- Defining tensors\n",
    "\n",
    "For more information, we refer the reader to the (highly recommended and well-written) [official documentation](https://docs.sympy.org/latest/index.html). In particular, examples here only cover *real*-valued computations. For complex analysis, see the documentation.\n",
    "\n"
   ]
  },
  {
   "cell_type": "markdown",
   "metadata": {},
   "source": [
    "## Getting started\n",
    "\n",
    "First, we import the SymPy library. (We will also use `numpy` and `matplotlib.pyplot` in the examples below.)\n",
    "\n",
    "The next step is to define the variables we will use for our calculations to follow. Here we use $t, x, y, z$."
   ]
  },
  {
   "cell_type": "code",
   "execution_count": 1,
   "metadata": {},
   "outputs": [],
   "source": [
    "import sympy as sp\n",
    "import numpy as np\n",
    "import matplotlib.pyplot as plt\n",
    "\n",
    "t, x, y, z = sp.symbols(\"t x y z\")"
   ]
  },
  {
   "cell_type": "markdown",
   "metadata": {},
   "source": [
    "With these variables, we can define mathematical expressions. SymPy has many [elementary functions](https://docs.sympy.org/latest/modules/functions/elementary.html) that are built-in and from which more complicated functions can be constructed.\n",
    "\n",
    "For example, let's define a function\n",
    "\n",
    "$$\n",
    "f(x)=\\cos(x)+1 \n",
    "$$\n",
    "\n",
    "In SymPy, this is defined as follows."
   ]
  },
  {
   "cell_type": "code",
   "execution_count": 2,
   "metadata": {},
   "outputs": [
    {
     "data": {
      "text/latex": [
       "$\\displaystyle \\cos{\\left(x \\right)} + 1$"
      ],
      "text/plain": [
       "cos(x) + 1"
      ]
     },
     "execution_count": 2,
     "metadata": {},
     "output_type": "execute_result"
    }
   ],
   "source": [
    "f = sp.cos(x) + 1\n",
    "\n",
    "f"
   ]
  },
  {
   "cell_type": "markdown",
   "metadata": {},
   "source": [
    "We can replace or substitute one variable by another. For example, say we want to replace $x \\to y$ in the above expression, yielding\n",
    "\n",
    "$$\n",
    "f(x) \\to f(y) = \\cos(y) + 1\n",
    "$$\n",
    "\n",
    "This is accomplished by substitution as follows."
   ]
  },
  {
   "cell_type": "code",
   "execution_count": 3,
   "metadata": {},
   "outputs": [
    {
     "data": {
      "text/latex": [
       "$\\displaystyle \\cos{\\left(y \\right)} + 1$"
      ],
      "text/plain": [
       "cos(y) + 1"
      ]
     },
     "execution_count": 3,
     "metadata": {},
     "output_type": "execute_result"
    }
   ],
   "source": [
    "f.subs(x, y)"
   ]
  },
  {
   "cell_type": "markdown",
   "metadata": {},
   "source": [
    "We can use this feature to evaluate a function at a given point. For example, suppose we want to calculate $f(0)$:\n",
    "\n",
    "$$\n",
    "f(x=0)=\\cos(0)+1=2\n",
    "$$\n",
    "\n",
    "We perform a substitution replacing $x \\to 0$, as follows."
   ]
  },
  {
   "cell_type": "code",
   "execution_count": 4,
   "metadata": {},
   "outputs": [
    {
     "data": {
      "text/latex": [
       "$\\displaystyle 2$"
      ],
      "text/plain": [
       "2"
      ]
     },
     "execution_count": 4,
     "metadata": {},
     "output_type": "execute_result"
    }
   ],
   "source": [
    "f.subs(x, 0)"
   ]
  },
  {
   "cell_type": "markdown",
   "metadata": {},
   "source": [
    "We can also perform a more complicated substitution to replace $x$ by *a function*. \n",
    "For example, let's replace $x$ by a function of $y,z$, i.e., $x \\to y z^2$. That is, we want:\n",
    "\n",
    "$$\n",
    "f(x) \\to f(y z^2) = cos(yz^2)+1\n",
    "$$\n",
    "\n"
   ]
  },
  {
   "cell_type": "code",
   "execution_count": 5,
   "metadata": {},
   "outputs": [
    {
     "data": {
      "text/latex": [
       "$\\displaystyle \\cos{\\left(y z^{2} \\right)} + 1$"
      ],
      "text/plain": [
       "cos(y*z**2) + 1"
      ]
     },
     "execution_count": 5,
     "metadata": {},
     "output_type": "execute_result"
    }
   ],
   "source": [
    "f.subs(x, y * z**2)"
   ]
  },
  {
   "cell_type": "markdown",
   "metadata": {},
   "source": [
    "Note that these operations do not change the definition of `f` itself. If you want to save the results of your symbolic manipulation, you need to use a definition."
   ]
  },
  {
   "cell_type": "code",
   "execution_count": 6,
   "metadata": {},
   "outputs": [
    {
     "name": "stdout",
     "output_type": "stream",
     "text": [
      "cos(x) + 1\n",
      "cos(y*z**2) + 1\n"
     ]
    }
   ],
   "source": [
    "print(f) # Still the original f\n",
    "\n",
    "g = f.subs(x,y * z**2)\n",
    "print(g)"
   ]
  },
  {
   "cell_type": "markdown",
   "metadata": {},
   "source": [
    "## Converting to numerical functions\n",
    "\n",
    "The easiest way to convert a SymPy expression to an expression that can be numerically evaluated is to use the **lambdify** function. \n",
    "\n",
    "To convert our symbolic function $f(x)$ to a numerical one, we do the following:\n",
    "\n",
    "```py\n",
    "f_num = sp.lambdify(x,f)\n",
    "```\n",
    "\n",
    "Note that we need pass our symbolic function `f` as well as the variable that will be evaluated numerically, namely $x$. Now, we have a numerical function `f_num` that can be evaluated numerically in the same way as you would normally do."
   ]
  },
  {
   "cell_type": "code",
   "execution_count": 7,
   "metadata": {},
   "outputs": [],
   "source": [
    "f_num = sp.lambdify(x, f)"
   ]
  },
  {
   "cell_type": "markdown",
   "metadata": {},
   "source": [
    "Now, let's define an array of $x$ values and evaluate the function at those values numerically."
   ]
  },
  {
   "cell_type": "code",
   "execution_count": 8,
   "metadata": {},
   "outputs": [
    {
     "data": {
      "text/plain": [
       "array([2.        , 1.87758256, 1.54030231, 1.0707372 , 0.58385316,\n",
       "       0.19885638, 0.0100075 , 0.06354331, 0.34635638, 0.7892042 ,\n",
       "       1.28366219, 1.70866977, 1.96017029, 1.97658763, 1.75390225,\n",
       "       1.34663532, 0.85449997, 0.3979881 , 0.08886974, 0.00282784,\n",
       "       0.16092847])"
      ]
     },
     "execution_count": 8,
     "metadata": {},
     "output_type": "execute_result"
    }
   ],
   "source": [
    "x_arr = np.arange(0., 10.5, 0.5) \n",
    "\n",
    "f_num(x_arr)"
   ]
  },
  {
   "cell_type": "markdown",
   "metadata": {},
   "source": [
    "SymPy also includes a built-in function `sp.pprint()` that can provide a nicer output."
   ]
  },
  {
   "cell_type": "code",
   "execution_count": 9,
   "metadata": {},
   "outputs": [
    {
     "name": "stdout",
     "output_type": "stream",
     "text": [
      "[2.         1.87758256 1.54030231 1.0707372  0.58385316 0.19885638\n",
      " 0.0100075  0.06354331 0.34635638 0.7892042  1.28366219 1.70866977\n",
      " 1.96017029 1.97658763 1.75390225 1.34663532 0.85449997 0.3979881 \n",
      "                 0.08886974 0.00282784 0.16092847]                \n"
     ]
    }
   ],
   "source": [
    "sp.pprint(f_num(x_arr))"
   ]
  },
  {
   "cell_type": "markdown",
   "metadata": {},
   "source": [
    "We can plot these numerical values in the usual way."
   ]
  },
  {
   "cell_type": "code",
   "execution_count": 10,
   "metadata": {},
   "outputs": [
    {
     "data": {
      "image/png": "[encoded data removed]",
      "text/plain": [
       "<Figure size 432x288 with 1 Axes>"
      ]
     },
     "metadata": {
      "needs_background": "light"
     },
     "output_type": "display_data"
    }
   ],
   "source": [
    "plt.plot(x_arr, f_num(x_arr))\n",
    "plt.xlabel(r\"$x$\")\n",
    "plt.ylabel(r'$f(x)$')\n",
    "plt.show()"
   ]
  },
  {
   "cell_type": "markdown",
   "metadata": {},
   "source": [
    "## Algebraic manipulations\n",
    "\n",
    "SymPy has a built-in function `sp.simplify()` that can simplify mathematical expressions. For example, we can show that\n",
    "\n",
    "\n",
    "$$\\cos^2(x)+\\sin^2(x)=1$$\n"
   ]
  },
  {
   "cell_type": "code",
   "execution_count": 11,
   "metadata": {},
   "outputs": [
    {
     "data": {
      "text/latex": [
       "$\\displaystyle 1$"
      ],
      "text/plain": [
       "1"
      ]
     },
     "execution_count": 11,
     "metadata": {},
     "output_type": "execute_result"
    }
   ],
   "source": [
    "expr = sp.cos(x)**2 + sp.sin(x)**2\n",
    "\n",
    "sp.simplify(expr)"
   ]
  },
  {
   "cell_type": "markdown",
   "metadata": {},
   "source": [
    "As another example, we can perform this simplification:\n",
    "\n",
    "$$\n",
    "\\frac{x^3-5x}{x^2+xy}=\\frac{x}{x}\\frac{x^2-5}{x+y}=\\frac{x^2-5}{x+y}\n",
    "$$\n",
    "\n"
   ]
  },
  {
   "cell_type": "code",
   "execution_count": 12,
   "metadata": {},
   "outputs": [
    {
     "data": {
      "text/latex": [
       "$\\displaystyle \\frac{x^{2} - 5}{x + y}$"
      ],
      "text/plain": [
       "(x**2 - 5)/(x + y)"
      ]
     },
     "execution_count": 12,
     "metadata": {},
     "output_type": "execute_result"
    }
   ],
   "source": [
    "expr = (x**3 - 5 * x) / (x**2 + y * x)\n",
    "\n",
    "sp.simplify(expr)"
   ]
  },
  {
   "cell_type": "markdown",
   "metadata": {},
   "source": [
    "SymPy can expand a polynomial with `sp.expand()`. Take the following example:\n",
    "\n",
    "\n",
    "$$\n",
    "(x+y)^3=x^3+3x^2y+3y^2x+y^3\n",
    "$$\n",
    "\n"
   ]
  },
  {
   "cell_type": "code",
   "execution_count": 13,
   "metadata": {},
   "outputs": [
    {
     "data": {
      "text/latex": [
       "$\\displaystyle x^{3} + 3 x^{2} y + 3 x y^{2} + y^{3}$"
      ],
      "text/plain": [
       "x**3 + 3*x**2*y + 3*x*y**2 + y**3"
      ]
     },
     "execution_count": 13,
     "metadata": {},
     "output_type": "execute_result"
    }
   ],
   "source": [
    "poly = (x + y)**3\n",
    "\n",
    "expanded_poly = sp.expand(poly)\n",
    "\n",
    "expanded_poly"
   ]
  },
  {
   "cell_type": "markdown",
   "metadata": {},
   "source": [
    "SymPy can factorize a polynomial with `sp.factor()`. From the previous example, we have:\n"
   ]
  },
  {
   "cell_type": "code",
   "execution_count": 14,
   "metadata": {},
   "outputs": [
    {
     "data": {
      "text/latex": [
       "$\\displaystyle \\left(x + y\\right)^{3}$"
      ],
      "text/plain": [
       "(x + y)**3"
      ]
     },
     "execution_count": 14,
     "metadata": {},
     "output_type": "execute_result"
    }
   ],
   "source": [
    "sp.factor(expanded_poly)"
   ]
  },
  {
   "cell_type": "markdown",
   "metadata": {},
   "source": [
    "## Differentiation\n",
    "\n",
    "SymPy can compute derivatives of functions. Consider the example\n",
    "\n",
    "$$\n",
    "\\frac{\\text{d}}{\\text{d}t} \\cos(t) = -\\sin(t)\n",
    "$$\n",
    "\n",
    "In SymPy, this is done as follows using `sp.diff(f,t)` where `f` is the function we want to differentiate with respect to `t`."
   ]
  },
  {
   "cell_type": "code",
   "execution_count": 15,
   "metadata": {},
   "outputs": [
    {
     "data": {
      "text/latex": [
       "$\\displaystyle - \\sin{\\left(t \\right)}$"
      ],
      "text/plain": [
       "-sin(t)"
      ]
     },
     "execution_count": 15,
     "metadata": {},
     "output_type": "execute_result"
    }
   ],
   "source": [
    "sp.diff(sp.cos(t), t) "
   ]
  },
  {
   "cell_type": "markdown",
   "metadata": {},
   "source": [
    "Differentiation can also be performed using the syntax `f.diff(t)`. Consider this example:\n",
    "\n",
    "$$\n",
    "\\frac{\\text{d}}{\\text{d}t} \\cos^2(t) =-2\\sin(t)\\cos(t)\n",
    "$$\n",
    "\n",
    "We can perform this as:"
   ]
  },
  {
   "cell_type": "code",
   "execution_count": 16,
   "metadata": {},
   "outputs": [
    {
     "data": {
      "text/latex": [
       "$\\displaystyle - 2 \\sin{\\left(t \\right)} \\cos{\\left(t \\right)}$"
      ],
      "text/plain": [
       "-2*sin(t)*cos(t)"
      ]
     },
     "execution_count": 16,
     "metadata": {},
     "output_type": "execute_result"
    }
   ],
   "source": [
    "f = sp.cos(t)**2\n",
    "\n",
    "f.diff(t)"
   ]
  },
  {
   "cell_type": "markdown",
   "metadata": {},
   "source": [
    "For taking a higher-order derivative, the syntax is `f.diff(t,n)` where `n` is the number of derivatives taken with respect to `t`. As an example, suppose we want to compute\n",
    "\n",
    "\n",
    "$$\n",
    "\\frac{\\text{d}^2}{\\text{d}t^2} \\cos^2(t) = 2 (\\sin^2(t)-\\cos^2(t))\n",
    "$$\n",
    "\n"
   ]
  },
  {
   "cell_type": "code",
   "execution_count": 17,
   "metadata": {},
   "outputs": [
    {
     "data": {
      "text/latex": [
       "$\\displaystyle 2 \\left(\\sin^{2}{\\left(t \\right)} - \\cos^{2}{\\left(t \\right)}\\right)$"
      ],
      "text/plain": [
       "2*(sin(t)**2 - cos(t)**2)"
      ]
     },
     "execution_count": 17,
     "metadata": {},
     "output_type": "execute_result"
    }
   ],
   "source": [
    "f.diff(t, 2)"
   ]
  },
  {
   "cell_type": "markdown",
   "metadata": {},
   "source": [
    "Of course, this is equivalent to taking two first derivatives."
   ]
  },
  {
   "cell_type": "code",
   "execution_count": 18,
   "metadata": {},
   "outputs": [
    {
     "data": {
      "text/latex": [
       "$\\displaystyle 2 \\sin^{2}{\\left(t \\right)} - 2 \\cos^{2}{\\left(t \\right)}$"
      ],
      "text/plain": [
       "2*sin(t)**2 - 2*cos(t)**2"
      ]
     },
     "execution_count": 18,
     "metadata": {},
     "output_type": "execute_result"
    }
   ],
   "source": [
    "f.diff(t).diff(t)"
   ]
  },
  {
   "cell_type": "markdown",
   "metadata": {},
   "source": [
    "For multivariate functions, the same function `diff` can take partial derivatives, including higher-order derivatives with respect to different variables.\n",
    "\n",
    "For example, we consider the function $f(t,x) = (t + x)^3$ and we will show that\n",
    "\n",
    "$$\n",
    "\\frac{\\partial^2f}{\\partial t\\partial x}=\\frac{\\partial^2f}{\\partial x \\partial t}\n",
    "$$\n",
    "\n"
   ]
  },
  {
   "cell_type": "code",
   "execution_count": 19,
   "metadata": {},
   "outputs": [
    {
     "data": {
      "text/latex": [
       "$\\displaystyle 6 \\left(t + x\\right)$"
      ],
      "text/plain": [
       "6*(t + x)"
      ]
     },
     "execution_count": 19,
     "metadata": {},
     "output_type": "execute_result"
    }
   ],
   "source": [
    "f = (t+x)**3\n",
    "\n",
    "# Derive first with respect to t, then wrt x\n",
    "f.diff(t, x) "
   ]
  },
  {
   "cell_type": "code",
   "execution_count": 20,
   "metadata": {},
   "outputs": [
    {
     "data": {
      "text/latex": [
       "$\\displaystyle 6 \\left(t + x\\right)$"
      ],
      "text/plain": [
       "6*(t + x)"
      ]
     },
     "execution_count": 20,
     "metadata": {},
     "output_type": "execute_result"
    }
   ],
   "source": [
    "# Derive first wrt x, then wrt t\n",
    "f.diff(x, t)"
   ]
  },
  {
   "cell_type": "markdown",
   "metadata": {},
   "source": [
    "## Integration\n",
    "\n",
    "There are two kinds of integrals: definite and indefinite. To calculate the indefinite integral (i.e., primitive of a function)\n",
    "\n",
    "$$\\int f(t) \\; \\text{d}t$$\n",
    "\n",
    "we use the syntax `sp.integrate(f,t)` where `f` is the function and `t` is the integration variable. As an example, let's compute\n",
    "\n",
    "$$\n",
    "\\int\\cos(t) \\; \\text{d}t=\\sin(t)\n",
    "$$\n",
    "\n"
   ]
  },
  {
   "cell_type": "code",
   "execution_count": 21,
   "metadata": {},
   "outputs": [
    {
     "data": {
      "text/latex": [
       "$\\displaystyle \\sin{\\left(t \\right)}$"
      ],
      "text/plain": [
       "sin(t)"
      ]
     },
     "execution_count": 21,
     "metadata": {},
     "output_type": "execute_result"
    }
   ],
   "source": [
    "sp.integrate(sp.cos(t), t)"
   ]
  },
  {
   "cell_type": "markdown",
   "metadata": {},
   "source": [
    "Next, we compute a definite integral. The syntax is `sp.integrate(f,(t,a,b))` to compute\n",
    "\n",
    "$$\\int_a^b f(t) \\; \\text{d}t$$\n",
    "\n",
    "As an example, we can compute\n",
    "\n",
    "$$\n",
    "\\int^\\infty_0 \\text{e}^{-t}\\text{d}t\n",
    "$$"
   ]
  },
  {
   "cell_type": "code",
   "execution_count": 22,
   "metadata": {},
   "outputs": [
    {
     "data": {
      "text/latex": [
       "$\\displaystyle 1$"
      ],
      "text/plain": [
       "1"
      ]
     },
     "execution_count": 22,
     "metadata": {},
     "output_type": "execute_result"
    }
   ],
   "source": [
    "sp.integrate(sp.exp(-t), (t, 0, np.infty))"
   ]
  },
  {
   "cell_type": "markdown",
   "metadata": {},
   "source": [
    "Similar to differentiation, there is an alternative syntax form where `integrate` is called directly as a method of the function itself, `f.integrate(t)`. As an example, we compute \n",
    "\n",
    "$$\n",
    "\\int \\text{e}^{-t} \\; \\text{d}t=-\\text{e}^{-t}\n",
    "$$"
   ]
  },
  {
   "cell_type": "code",
   "execution_count": 23,
   "metadata": {},
   "outputs": [
    {
     "data": {
      "text/latex": [
       "$\\displaystyle - e^{- t}$"
      ],
      "text/plain": [
       "-exp(-t)"
      ]
     },
     "execution_count": 23,
     "metadata": {},
     "output_type": "execute_result"
    }
   ],
   "source": [
    "f = sp.exp(-t)\n",
    "\n",
    "f.integrate(t)"
   ]
  },
  {
   "cell_type": "markdown",
   "metadata": {},
   "source": [
    "Here is an example that does not converge:\n",
    "\n",
    "$$\n",
    "\\int^\\infty_{-\\infty}\\text{e}^{-t}\\text{d}t\n",
    "$$\n"
   ]
  },
  {
   "cell_type": "code",
   "execution_count": 24,
   "metadata": {},
   "outputs": [
    {
     "data": {
      "text/latex": [
       "$\\displaystyle \\infty$"
      ],
      "text/plain": [
       "oo"
      ]
     },
     "execution_count": 24,
     "metadata": {},
     "output_type": "execute_result"
    }
   ],
   "source": [
    "f.integrate((t, -np.infty, np.infty))"
   ]
  },
  {
   "cell_type": "markdown",
   "metadata": {},
   "source": [
    "Next, we turn to multivariate integrales. For example, we calculate the volume of a sphere of radius $r$ by performing a triple integral\n",
    "\n",
    "$$\n",
    "V=\\int^r_{0} \\text{d}r' \\int^\\pi_{0} \\text{d}\\theta \\int^{2\\pi}_{0} \\text{d}\\varphi  \\,  r'^2 \\sin(\\theta) \\,    =\\frac{4}{3}\\pi r^3\n",
    "$$\n",
    "\n"
   ]
  },
  {
   "cell_type": "code",
   "execution_count": 25,
   "metadata": {},
   "outputs": [
    {
     "data": {
      "text/latex": [
       "$\\displaystyle \\frac{4 \\pi r^{3}}{3}$"
      ],
      "text/plain": [
       "4*pi*r**3/3"
      ]
     },
     "execution_count": 25,
     "metadata": {},
     "output_type": "execute_result"
    }
   ],
   "source": [
    "# First define new variables for spherical coordinates\n",
    "r, rprime, theta, phi = sp.symbols(\"r, r', \\theta, \\phi\")\n",
    "\n",
    "# Define integrand\n",
    "integrand = rprime**2 * sp.sin(theta)\n",
    "\n",
    "# Perform integral\n",
    "V = integrand.integrate((rprime, 0, r), (phi, 0, 2*sp.pi), (theta, 0, sp.pi))\n",
    "\n",
    "V"
   ]
  },
  {
   "cell_type": "markdown",
   "metadata": {},
   "source": [
    "By substituting a given value for the radius, we get the value for a physical volume. For example, taking $r=1$ gives the volume of the unit sphere.\n"
   ]
  },
  {
   "cell_type": "code",
   "execution_count": 26,
   "metadata": {},
   "outputs": [
    {
     "data": {
      "text/latex": [
       "$\\displaystyle \\frac{4 \\pi}{3}$"
      ],
      "text/plain": [
       "4*pi/3"
      ]
     },
     "execution_count": 26,
     "metadata": {},
     "output_type": "execute_result"
    }
   ],
   "source": [
    "unit_sphere = V.subs(r,1) # r = 1\n",
    "unit_sphere"
   ]
  },
  {
   "cell_type": "markdown",
   "metadata": {},
   "source": [
    "We can convert the exact value into a numerical value using the method `evalf()`."
   ]
  },
  {
   "cell_type": "code",
   "execution_count": 27,
   "metadata": {},
   "outputs": [
    {
     "data": {
      "text/latex": [
       "$\\displaystyle 4.18879020478639$"
      ],
      "text/plain": [
       "4.18879020478639"
      ]
     },
     "execution_count": 27,
     "metadata": {},
     "output_type": "execute_result"
    }
   ],
   "source": [
    "unit_sphere.evalf()"
   ]
  },
  {
   "cell_type": "markdown",
   "metadata": {},
   "source": [
    "## Ordinary differential equations\n",
    "\n",
    "Next, we can see how to solve ordinary differential equations (ODEs). Here we consider ODEs that can be expressed in the form\n",
    "\n",
    "$$\n",
    "a_0(t) f(t)+a_1(t) \\frac{\\text{d}f(t)}{\\text{d}t}+...+a_n(t)\\frac{\\text{d}^n f(t)}{\\text{d}t^n}+b(t)=0\n",
    "$$\n",
    "\n",
    "where $f(t)$ is the function we want to solve for and $a_i(t) \\, \\forall i \\in [0, n]$ and $b(t)$ are arbitrary differentiable functions.\n",
    "\n",
    "The steps are as follows. \n",
    "\n",
    "1. Define the symbol `f` to be a function (as opposed to a symbolic variable). This is done as follows, determines that the symbol `f` belongs to the class of the functions.\n",
    "\n",
    "```py\n",
    "y = symbols(\"y\", cls=Function)\n",
    "```\n",
    "\n",
    "2. Define the ODE. This is done by defining an equation using `sp.Eq(L,R)`, which represents the equations $L = R$.\n",
    "\n",
    "3. Solve the ODE using `sp.dsolve()`.\n",
    "\n",
    "Let's show all the steps for the simple ODE\n",
    "\n",
    "$$\n",
    "\\frac{\\text{d}f(t)}{\\text{d}t}-f(t)=0\n",
    "$$\n",
    "\n",
    "\n"
   ]
  },
  {
   "cell_type": "code",
   "execution_count": 28,
   "metadata": {},
   "outputs": [
    {
     "data": {
      "text/latex": [
       "$\\displaystyle f{\\left(t \\right)} = C_{1} e^{t}$"
      ],
      "text/plain": [
       "Eq(f(t), C1*exp(t))"
      ]
     },
     "execution_count": 28,
     "metadata": {},
     "output_type": "execute_result"
    }
   ],
   "source": [
    "# Define the function\n",
    "f = sp.symbols(\"f\", cls=sp.Function) \n",
    "\n",
    "# Define the ODE\n",
    "ODE = sp.Eq(f(t).diff(t) - f(t), 0)\n",
    "\n",
    "# Solve the ODE\n",
    "sp.dsolve(ODE, f(t))"
   ]
  },
  {
   "cell_type": "markdown",
   "metadata": {},
   "source": [
    "Here is another example, which is a 2nd-order ODE, the simple harmonic oscillator:\n",
    "\n",
    "$$\n",
    "\\frac{\\text{d}^2f(t)}{\\text{d}t^2}+\\omega_0^2f(t)=0\n",
    "$$\n",
    "\n",
    "Remember if you have a constant symbolic parameter in your ODE, you must first define it as a `symbol`."
   ]
  },
  {
   "cell_type": "code",
   "execution_count": 29,
   "metadata": {},
   "outputs": [
    {
     "data": {
      "text/latex": [
       "$\\displaystyle f{\\left(t \\right)} = C_{1} e^{- i \\omega_0 t} + C_{2} e^{i \\omega_0 t}$"
      ],
      "text/plain": [
       "Eq(f(t), C1*exp(-I*\\omega_0*t) + C2*exp(I*\\omega_0*t))"
      ]
     },
     "execution_count": 29,
     "metadata": {},
     "output_type": "execute_result"
    }
   ],
   "source": [
    "omega = sp.symbols(\"\\omega_0\")\n",
    "\n",
    "ODE = sp.Eq(f(t).diff(t, 2) + omega**2 * f(t), 0)\n",
    "\n",
    "sp.dsolve(ODE, f(t))"
   ]
  },
  {
   "cell_type": "markdown",
   "metadata": {},
   "source": [
    "<span style='font-size:x-large'>Matrix manipulation with SymPy:</span>\n"
   ]
  },
  {
   "cell_type": "markdown",
   "metadata": {},
   "source": [
    "## Matrix manipulation\n",
    "\n",
    "First, we define a matrix:\n"
   ]
  },
  {
   "cell_type": "code",
   "execution_count": 30,
   "metadata": {},
   "outputs": [
    {
     "data": {
      "text/latex": [
       "$\\displaystyle \\left[\\begin{matrix}1 & 2\\\\3 & 4\\end{matrix}\\right]$"
      ],
      "text/plain": [
       "Matrix([\n",
       "[1, 2],\n",
       "[3, 4]])"
      ]
     },
     "execution_count": 30,
     "metadata": {},
     "output_type": "execute_result"
    }
   ],
   "source": [
    "M = sp.Matrix([[1, 2], [3, 4]]) \n",
    "\n",
    "M"
   ]
  },
  {
   "cell_type": "markdown",
   "metadata": {},
   "source": [
    "We can get the individual entries of a matrix using the usual syntax for array indexing and slicing. For example, `M[i,j]` is the entry in the $i$th row and $j$th column, and `M[:,i]` is the $i$th column. As usual in Python, counting indices starts at $0$.\n"
   ]
  },
  {
   "cell_type": "code",
   "execution_count": 31,
   "metadata": {},
   "outputs": [
    {
     "data": {
      "text/latex": [
       "$\\displaystyle \\left[\\begin{matrix}1 & 2\\end{matrix}\\right]$"
      ],
      "text/plain": [
       "Matrix([[1, 2]])"
      ]
     },
     "execution_count": 31,
     "metadata": {},
     "output_type": "execute_result"
    }
   ],
   "source": [
    "# First row\n",
    "row = M[0, :]\n",
    "row"
   ]
  },
  {
   "cell_type": "code",
   "execution_count": 32,
   "metadata": {},
   "outputs": [
    {
     "data": {
      "text/latex": [
       "$\\displaystyle 2$"
      ],
      "text/plain": [
       "2"
      ]
     },
     "execution_count": 32,
     "metadata": {},
     "output_type": "execute_result"
    }
   ],
   "source": [
    "# Second element of first row\n",
    "row[1]"
   ]
  },
  {
   "cell_type": "code",
   "execution_count": 33,
   "metadata": {},
   "outputs": [
    {
     "data": {
      "text/latex": [
       "$\\displaystyle 2$"
      ],
      "text/plain": [
       "2"
      ]
     },
     "execution_count": 33,
     "metadata": {},
     "output_type": "execute_result"
    }
   ],
   "source": [
    "# Or more directly\n",
    "M[0, 1] "
   ]
  },
  {
   "cell_type": "markdown",
   "metadata": {},
   "source": [
    "You can define a column matrix (or column vector):\n"
   ]
  },
  {
   "cell_type": "code",
   "execution_count": 34,
   "metadata": {},
   "outputs": [
    {
     "data": {
      "text/latex": [
       "$\\displaystyle \\left[\\begin{matrix}x\\\\y\\end{matrix}\\right]$"
      ],
      "text/plain": [
       "Matrix([\n",
       "[x],\n",
       "[y]])"
      ]
     },
     "execution_count": 34,
     "metadata": {},
     "output_type": "execute_result"
    }
   ],
   "source": [
    "c = sp.Matrix([x, y])\n",
    "c"
   ]
  },
  {
   "cell_type": "markdown",
   "metadata": {},
   "source": [
    "And a row matrix (or row vector):"
   ]
  },
  {
   "cell_type": "code",
   "execution_count": 35,
   "metadata": {},
   "outputs": [
    {
     "data": {
      "text/latex": [
       "$\\displaystyle \\left[\\begin{matrix}x & y\\end{matrix}\\right]$"
      ],
      "text/plain": [
       "Matrix([[x, y]])"
      ]
     },
     "execution_count": 35,
     "metadata": {},
     "output_type": "execute_result"
    }
   ],
   "source": [
    "r = sp.Matrix([[x, y]])\n",
    "r"
   ]
  },
  {
   "cell_type": "markdown",
   "metadata": {},
   "source": [
    "To multiply matrices, you can use the `*` symbol. Here are some examples:\n"
   ]
  },
  {
   "cell_type": "code",
   "execution_count": 36,
   "metadata": {},
   "outputs": [
    {
     "data": {
      "text/latex": [
       "$\\displaystyle \\left[\\begin{matrix}7 & 10\\\\15 & 22\\end{matrix}\\right]$"
      ],
      "text/plain": [
       "Matrix([\n",
       "[ 7, 10],\n",
       "[15, 22]])"
      ]
     },
     "execution_count": 36,
     "metadata": {},
     "output_type": "execute_result"
    }
   ],
   "source": [
    "M * M"
   ]
  },
  {
   "cell_type": "code",
   "execution_count": 37,
   "metadata": {},
   "outputs": [
    {
     "data": {
      "text/latex": [
       "$\\displaystyle \\left[\\begin{matrix}x^{2} + y^{2}\\end{matrix}\\right]$"
      ],
      "text/plain": [
       "Matrix([[x**2 + y**2]])"
      ]
     },
     "execution_count": 37,
     "metadata": {},
     "output_type": "execute_result"
    }
   ],
   "source": [
    "r * c # This is a single number"
   ]
  },
  {
   "cell_type": "code",
   "execution_count": 38,
   "metadata": {},
   "outputs": [
    {
     "data": {
      "text/latex": [
       "$\\displaystyle \\left[\\begin{matrix}x^{2} & x y\\\\x y & y^{2}\\end{matrix}\\right]$"
      ],
      "text/plain": [
       "Matrix([\n",
       "[x**2,  x*y],\n",
       "[ x*y, y**2]])"
      ]
     },
     "execution_count": 38,
     "metadata": {},
     "output_type": "execute_result"
    }
   ],
   "source": [
    "c * r # This is a 2x2 matrix"
   ]
  },
  {
   "cell_type": "markdown",
   "metadata": {},
   "source": [
    "Other matrix operations are as follows:\n"
   ]
  },
  {
   "cell_type": "code",
   "execution_count": 39,
   "metadata": {},
   "outputs": [
    {
     "data": {
      "text/latex": [
       "$\\displaystyle \\left[\\begin{matrix}2 & 4\\\\6 & 8\\end{matrix}\\right]$"
      ],
      "text/plain": [
       "Matrix([\n",
       "[2, 4],\n",
       "[6, 8]])"
      ]
     },
     "execution_count": 39,
     "metadata": {},
     "output_type": "execute_result"
    }
   ],
   "source": [
    "M + M # matrix addition"
   ]
  },
  {
   "cell_type": "code",
   "execution_count": 40,
   "metadata": {},
   "outputs": [
    {
     "data": {
      "text/latex": [
       "$\\displaystyle \\left(\\left[\\begin{matrix}1 & 2\\\\3 & 4\\end{matrix}\\right]\\right)^{T}$"
      ],
      "text/plain": [
       "Matrix([\n",
       "[1, 2],\n",
       "[3, 4]]).T"
      ]
     },
     "execution_count": 40,
     "metadata": {},
     "output_type": "execute_result"
    }
   ],
   "source": [
    "sp.Transpose(M) # transposition"
   ]
  },
  {
   "cell_type": "markdown",
   "metadata": {},
   "source": [
    "If you want to see it explicitly, you should use the method `as_explicit()`:"
   ]
  },
  {
   "cell_type": "code",
   "execution_count": 41,
   "metadata": {},
   "outputs": [
    {
     "data": {
      "text/latex": [
       "$\\displaystyle \\left[\\begin{matrix}1 & 3\\\\2 & 4\\end{matrix}\\right]$"
      ],
      "text/plain": [
       "Matrix([\n",
       "[1, 3],\n",
       "[2, 4]])"
      ]
     },
     "execution_count": 41,
     "metadata": {},
     "output_type": "execute_result"
    }
   ],
   "source": [
    "sp.Transpose(M).as_explicit()"
   ]
  },
  {
   "cell_type": "code",
   "execution_count": 42,
   "metadata": {},
   "outputs": [
    {
     "data": {
      "text/latex": [
       "$\\displaystyle -2$"
      ],
      "text/plain": [
       "-2"
      ]
     },
     "execution_count": 42,
     "metadata": {},
     "output_type": "execute_result"
    }
   ],
   "source": [
    "sp.det(M) # Determinant"
   ]
  },
  {
   "cell_type": "code",
   "execution_count": 43,
   "metadata": {},
   "outputs": [
    {
     "data": {
      "text/latex": [
       "$\\displaystyle -2$"
      ],
      "text/plain": [
       "-2"
      ]
     },
     "execution_count": 43,
     "metadata": {},
     "output_type": "execute_result"
    }
   ],
   "source": [
    "sp.det(sp.Transpose(M)) # Determinant of the transpose"
   ]
  },
  {
   "cell_type": "code",
   "execution_count": 44,
   "metadata": {},
   "outputs": [
    {
     "data": {
      "text/latex": [
       "$\\displaystyle \\left[\\begin{matrix}-2 & 1\\\\\\frac{3}{2} & - \\frac{1}{2}\\end{matrix}\\right]$"
      ],
      "text/plain": [
       "Matrix([\n",
       "[ -2,    1],\n",
       "[3/2, -1/2]])"
      ]
     },
     "execution_count": 44,
     "metadata": {},
     "output_type": "execute_result"
    }
   ],
   "source": [
    "M.inv() # Inverse of a matrix"
   ]
  },
  {
   "cell_type": "markdown",
   "metadata": {},
   "source": [
    "We can check that a matrix multiplied by its inverse is the identity matrix."
   ]
  },
  {
   "cell_type": "code",
   "execution_count": 45,
   "metadata": {},
   "outputs": [
    {
     "data": {
      "text/latex": [
       "$\\displaystyle \\left[\\begin{matrix}1 & 0\\\\0 & 1\\end{matrix}\\right]$"
      ],
      "text/plain": [
       "Matrix([\n",
       "[1, 0],\n",
       "[0, 1]])"
      ]
     },
     "execution_count": 45,
     "metadata": {},
     "output_type": "execute_result"
    }
   ],
   "source": [
    "M.inv() * M "
   ]
  },
  {
   "cell_type": "markdown",
   "metadata": {},
   "source": [
    "We can compute the eigenvalues and eigenvectors of a matrix. The method `eigenvals()` returns the eigenvalues and the multiplicity of each eigenvalue. (For the example here, the multiplicity is always 1.) \n",
    "\n",
    "The method `eigenvects()` additionally returns the eigenvectors (as column vectors). \n",
    "\n",
    "Here are some examples."
   ]
  },
  {
   "cell_type": "code",
   "execution_count": 46,
   "metadata": {},
   "outputs": [
    {
     "data": {
      "text/plain": [
       "{5/2 - sqrt(33)/2: 1, 5/2 + sqrt(33)/2: 1}"
      ]
     },
     "execution_count": 46,
     "metadata": {},
     "output_type": "execute_result"
    }
   ],
   "source": [
    "M.eigenvals()"
   ]
  },
  {
   "cell_type": "code",
   "execution_count": 47,
   "metadata": {},
   "outputs": [
    {
     "data": {
      "text/plain": [
       "[(5/2 - sqrt(33)/2,\n",
       "  1,\n",
       "  [Matrix([\n",
       "   [-2/(-3/2 + sqrt(33)/2)],\n",
       "   [                     1]])]),\n",
       " (5/2 + sqrt(33)/2,\n",
       "  1,\n",
       "  [Matrix([\n",
       "   [-2/(-sqrt(33)/2 - 3/2)],\n",
       "   [                     1]])])]"
      ]
     },
     "execution_count": 47,
     "metadata": {},
     "output_type": "execute_result"
    }
   ],
   "source": [
    "M.eigenvects()"
   ]
  },
  {
   "cell_type": "markdown",
   "metadata": {},
   "source": [
    "## General Relativity and tensor algebra\n",
    "\n",
    "Einstein's theory of General Relativity (GR) is described in terms of many different tensors. Here we will show how SymPy can be useful for algebraic computations involving tensors, which in GR can be somewhat complicated and tedious to work out by hand.\n",
    "\n",
    "What are tensors? They are objects with components labeled by indices. You are familiar with one-index objects (vectors) and two-index objects (matrices), but there can be more complicated objects with even more indices to label their components.\n",
    "\n",
    "Tensor algebra is the process of multiplying tensors together by multiplying their components along certain axes. Familiar examples include the inner product (dot product) between vectors and usual matrix multiplication. \n",
    "\n",
    "To begin, we define a spacetime vector to include time $t$ along with the usual three Cartesian spatial directions\n",
    "\n",
    "$$\n",
    "x^\\mu=(t, x, y, z)\n",
    "$$\n",
    "\n",
    "Here, $\\mu$ is the index and takes values $\\mu = 0, 1, 2, 3$, i.e., $x^0 = t$, $x^1 = x$, etc. Even though $x^\\mu$ is strictly-speaking the *component* of the vector, it is customary to refer to $x^\\mu$ as the vector itself.\n",
    "\n",
    "### Matrix algebra with the metric tensor\n",
    "\n",
    "The fundamental object in GR is the metric tensor $g_{\\mu\\nu}$, which describes the curvature of spacetime. Since it has two indices, we can represent it as a matrix. Here we will assume the metric tensor can be written as the following matrix.\n",
    "\n",
    "$$\n",
    "g_{\\mu\\nu}=\\left(\\begin{array}{rrr} \n",
    "1 & 0 & 0 & 0 \\\\ \n",
    "0 & -f^2(t) & 0 & 0 \\\\ \n",
    "0 & 0 & -f^2(t) & 0 \\\\ \n",
    "0 & 0 & 0 & -f^2(t) \\\\ \n",
    "\\end{array}\\right)\n",
    "$$\n",
    "\n",
    "This form is useful for cosmology to describe a homogenous and isotropic expanding Universe.\n",
    "\n",
    "The metric tensors encodes the geometry of the curved manifold of spacetime. This is often expressed in terms of the spacetime distance (squared) $ds^2$ between two nearby spacetime points, $x^\\mu = (t,x,y,z)$ and $x^\\mu + dx^\\mu= (t + dt,x + dx,y + dy,z + dz)$:\n",
    "\n",
    "$$\n",
    "ds^2 = g_{\\mu\\nu} dx^\\mu dx^\\nu=dt^2-f^2(t)(dx^2+dy^2+dz^2)\n",
    "$$\n",
    "\n",
    "In GR, tensors with upper and lower indices are different objects. An upper index is refered to as a *covariant* index, while a lower index is a *contravariant* index. \n",
    "To convert one to another (referred to as *raising* or *lowering* indices), we multiply with the metric tensor. That is, we multiply by $g_{\\mu \\nu}$ to lower an index and $g^{\\mu \\nu}$ to raise an index. Since raising and then lowering (or vice-versa) gives back the original, $g_{\\mu \\nu}$ and $g^{\\mu \\nu}$ must be matrix inverses of one another.\n",
    "\n",
    "\n",
    "\n"
   ]
  },
  {
   "cell_type": "code",
   "execution_count": 48,
   "metadata": {},
   "outputs": [
    {
     "data": {
      "text/latex": [
       "$\\displaystyle \\left[\\begin{matrix}1 & 0 & 0 & 0\\\\0 & - f^{2}{\\left(t \\right)} & 0 & 0\\\\0 & 0 & - f^{2}{\\left(t \\right)} & 0\\\\0 & 0 & 0 & - f^{2}{\\left(t \\right)}\\end{matrix}\\right]$"
      ],
      "text/plain": [
       "Matrix([\n",
       "[1,        0,        0,        0],\n",
       "[0, -f(t)**2,        0,        0],\n",
       "[0,        0, -f(t)**2,        0],\n",
       "[0,        0,        0, -f(t)**2]])"
      ]
     },
     "execution_count": 48,
     "metadata": {},
     "output_type": "execute_result"
    }
   ],
   "source": [
    "# Metric tensor g_{mu nu} with two lower indices (denoted ll)\n",
    "\n",
    "g_ll = sp.Matrix([[1, 0, 0, 0],[0, -f(t)**2, 0, 0],[0, 0, -f(t)**2, 0],[0, 0, 0, -f(t)**2]])\n",
    "g_ll"
   ]
  },
  {
   "cell_type": "code",
   "execution_count": 49,
   "metadata": {},
   "outputs": [
    {
     "data": {
      "text/latex": [
       "$\\displaystyle \\left[\\begin{matrix}1 & 0 & 0 & 0\\\\0 & - \\frac{1}{f^{2}{\\left(t \\right)}} & 0 & 0\\\\0 & 0 & - \\frac{1}{f^{2}{\\left(t \\right)}} & 0\\\\0 & 0 & 0 & - \\frac{1}{f^{2}{\\left(t \\right)}}\\end{matrix}\\right]$"
      ],
      "text/plain": [
       "Matrix([\n",
       "[1,          0,          0,          0],\n",
       "[0, -1/f(t)**2,          0,          0],\n",
       "[0,          0, -1/f(t)**2,          0],\n",
       "[0,          0,          0, -1/f(t)**2]])"
      ]
     },
     "execution_count": 49,
     "metadata": {},
     "output_type": "execute_result"
    }
   ],
   "source": [
    "# Metric tensor g^{mu nu} with two upper indices (denoted uu)\n",
    "# Take the inverse\n",
    "\n",
    "g_uu = g_ll.inv()\n",
    "g_uu"
   ]
  },
  {
   "cell_type": "markdown",
   "metadata": {},
   "source": [
    "We can easily check that these matrices are inverses by (matrix) multiplying them together. We get the $4 \\times 4$ identity matrix."
   ]
  },
  {
   "cell_type": "code",
   "execution_count": 50,
   "metadata": {},
   "outputs": [
    {
     "data": {
      "text/latex": [
       "$\\displaystyle \\left[\\begin{matrix}1 & 0 & 0 & 0\\\\0 & 1 & 0 & 0\\\\0 & 0 & 1 & 0\\\\0 & 0 & 0 & 1\\end{matrix}\\right]$"
      ],
      "text/plain": [
       "Matrix([\n",
       "[1, 0, 0, 0],\n",
       "[0, 1, 0, 0],\n",
       "[0, 0, 1, 0],\n",
       "[0, 0, 0, 1]])"
      ]
     },
     "execution_count": 50,
     "metadata": {},
     "output_type": "execute_result"
    }
   ],
   "source": [
    "g_uu * g_ll"
   ]
  },
  {
   "cell_type": "markdown",
   "metadata": {},
   "source": [
    "For other tensor calculations, we need a more general approach beyond matrix multiplication. \n",
    "\n",
    "First, we have a general __tensor product__ `sp.tensorproduct()`. This multiplies *all* the different elements of two tensors in *all* possible ways. For example, $g_{\\mu \\nu}$ has $4 \\times 4$ components and $g^{\\alpha \\beta}$ has $4 \\times 4$ components (we need unique labels for the indices here). So the tensor product\n",
    "\n",
    "$$g_{\\mu \\nu} g^{\\alpha \\beta}$$\n",
    "\n",
    "is an object with four indices that has $4 \\times 4 \\times 4 \\times 4$ components."
   ]
  },
  {
   "cell_type": "code",
   "execution_count": 51,
   "metadata": {},
   "outputs": [
    {
     "data": {
      "text/latex": [
       "$\\displaystyle \\left[\\begin{matrix}\\left[\\begin{matrix}1 & 0 & 0 & 0\\\\0 & - \\frac{1}{f^{2}{\\left(t \\right)}} & 0 & 0\\\\0 & 0 & - \\frac{1}{f^{2}{\\left(t \\right)}} & 0\\\\0 & 0 & 0 & - \\frac{1}{f^{2}{\\left(t \\right)}}\\end{matrix}\\right] & \\left[\\begin{matrix}0 & 0 & 0 & 0\\\\0 & 0 & 0 & 0\\\\0 & 0 & 0 & 0\\\\0 & 0 & 0 & 0\\end{matrix}\\right] & \\left[\\begin{matrix}0 & 0 & 0 & 0\\\\0 & 0 & 0 & 0\\\\0 & 0 & 0 & 0\\\\0 & 0 & 0 & 0\\end{matrix}\\right] & \\left[\\begin{matrix}0 & 0 & 0 & 0\\\\0 & 0 & 0 & 0\\\\0 & 0 & 0 & 0\\\\0 & 0 & 0 & 0\\end{matrix}\\right]\\\\\\left[\\begin{matrix}0 & 0 & 0 & 0\\\\0 & 0 & 0 & 0\\\\0 & 0 & 0 & 0\\\\0 & 0 & 0 & 0\\end{matrix}\\right] & \\left[\\begin{matrix}- f^{2}{\\left(t \\right)} & 0 & 0 & 0\\\\0 & 1 & 0 & 0\\\\0 & 0 & 1 & 0\\\\0 & 0 & 0 & 1\\end{matrix}\\right] & \\left[\\begin{matrix}0 & 0 & 0 & 0\\\\0 & 0 & 0 & 0\\\\0 & 0 & 0 & 0\\\\0 & 0 & 0 & 0\\end{matrix}\\right] & \\left[\\begin{matrix}0 & 0 & 0 & 0\\\\0 & 0 & 0 & 0\\\\0 & 0 & 0 & 0\\\\0 & 0 & 0 & 0\\end{matrix}\\right]\\\\\\left[\\begin{matrix}0 & 0 & 0 & 0\\\\0 & 0 & 0 & 0\\\\0 & 0 & 0 & 0\\\\0 & 0 & 0 & 0\\end{matrix}\\right] & \\left[\\begin{matrix}0 & 0 & 0 & 0\\\\0 & 0 & 0 & 0\\\\0 & 0 & 0 & 0\\\\0 & 0 & 0 & 0\\end{matrix}\\right] & \\left[\\begin{matrix}- f^{2}{\\left(t \\right)} & 0 & 0 & 0\\\\0 & 1 & 0 & 0\\\\0 & 0 & 1 & 0\\\\0 & 0 & 0 & 1\\end{matrix}\\right] & \\left[\\begin{matrix}0 & 0 & 0 & 0\\\\0 & 0 & 0 & 0\\\\0 & 0 & 0 & 0\\\\0 & 0 & 0 & 0\\end{matrix}\\right]\\\\\\left[\\begin{matrix}0 & 0 & 0 & 0\\\\0 & 0 & 0 & 0\\\\0 & 0 & 0 & 0\\\\0 & 0 & 0 & 0\\end{matrix}\\right] & \\left[\\begin{matrix}0 & 0 & 0 & 0\\\\0 & 0 & 0 & 0\\\\0 & 0 & 0 & 0\\\\0 & 0 & 0 & 0\\end{matrix}\\right] & \\left[\\begin{matrix}0 & 0 & 0 & 0\\\\0 & 0 & 0 & 0\\\\0 & 0 & 0 & 0\\\\0 & 0 & 0 & 0\\end{matrix}\\right] & \\left[\\begin{matrix}- f^{2}{\\left(t \\right)} & 0 & 0 & 0\\\\0 & 1 & 0 & 0\\\\0 & 0 & 1 & 0\\\\0 & 0 & 0 & 1\\end{matrix}\\right]\\end{matrix}\\right]$"
      ],
      "text/plain": [
       "[[[[1, 0, 0, 0], [0, -1/f(t)**2, 0, 0], [0, 0, -1/f(t)**2, 0], [0, 0, 0, -1/f(t)**2]], [[0, 0, 0, 0], [0, 0, 0, 0], [0, 0, 0, 0], [0, 0, 0, 0]], [[0, 0, 0, 0], [0, 0, 0, 0], [0, 0, 0, 0], [0, 0, 0, 0]], [[0, 0, 0, 0], [0, 0, 0, 0], [0, 0, 0, 0], [0, 0, 0, 0]]], [[[0, 0, 0, 0], [0, 0, 0, 0], [0, 0, 0, 0], [0, 0, 0, 0]], [[-f(t)**2, 0, 0, 0], [0, 1, 0, 0], [0, 0, 1, 0], [0, 0, 0, 1]], [[0, 0, 0, 0], [0, 0, 0, 0], [0, 0, 0, 0], [0, 0, 0, 0]], [[0, 0, 0, 0], [0, 0, 0, 0], [0, 0, 0, 0], [0, 0, 0, 0]]], [[[0, 0, 0, 0], [0, 0, 0, 0], [0, 0, 0, 0], [0, 0, 0, 0]], [[0, 0, 0, 0], [0, 0, 0, 0], [0, 0, 0, 0], [0, 0, 0, 0]], [[-f(t)**2, 0, 0, 0], [0, 1, 0, 0], [0, 0, 1, 0], [0, 0, 0, 1]], [[0, 0, 0, 0], [0, 0, 0, 0], [0, 0, 0, 0], [0, 0, 0, 0]]], [[[0, 0, 0, 0], [0, 0, 0, 0], [0, 0, 0, 0], [0, 0, 0, 0]], [[0, 0, 0, 0], [0, 0, 0, 0], [0, 0, 0, 0], [0, 0, 0, 0]], [[0, 0, 0, 0], [0, 0, 0, 0], [0, 0, 0, 0], [0, 0, 0, 0]], [[-f(t)**2, 0, 0, 0], [0, 1, 0, 0], [0, 0, 1, 0], [0, 0, 0, 1]]]]"
      ]
     },
     "execution_count": 51,
     "metadata": {},
     "output_type": "execute_result"
    }
   ],
   "source": [
    "# Tensor product with yield a 4 x 4 x 4 x 4 component object.\n",
    "\n",
    "prod = sp.tensorproduct(g_ll, g_uu)\n",
    "prod"
   ]
  },
  {
   "cell_type": "markdown",
   "metadata": {},
   "source": [
    "Next, we have __tensor contraction__. In the example above, suppose we set the indices $\\nu = \\alpha$ and sum over $\\nu$:\n",
    "\n",
    "$$\\sum_{\\nu = 0}^{3} g_{\\mu \\nu} g^{\\nu \\beta}$$\n",
    "\n",
    "Now, this is nothing more than the usual matrix multiplication. \n",
    "\n",
    "We are left with two free indices, $\\mu$ and $\\beta$, so this object is another $4 \\times 4$ matrix. Since summing over indices reduces the number of free indices left, this is referred to as *contracting indices*.\n",
    "\n",
    "Here is a bit of important notation. It is customary to omit the summation sign and write the above as \n",
    "\n",
    "$$g_{\\mu \\nu} g^{\\nu \\beta}$$\n",
    "\n",
    "with the understanding that *repeated* indices (one raised, one lowered) are summed over, known as __Einstein's summation convention__.\n",
    "\n",
    "We can perform this operation using `sp.tensorcontraction()`. First, we compute the tensor product as above. Then we contract the second index ($\\nu$) and third index ($\\alpha$) with each other. For the above example, we have\n",
    "\n",
    "```py \n",
    "prod = sp.tensorproduct(g_ll, g_uu)\n",
    "sp.tensorcontraction(prod, (1, 2)) \n",
    "```\n",
    "\n",
    "Here `(1,2)` labels the indices to contract, i.e., the second and third indices since as usual Python counting starts at 0. \n",
    "\n",
    "In this example, we again yield the identity matrix. "
   ]
  },
  {
   "cell_type": "code",
   "execution_count": 52,
   "metadata": {},
   "outputs": [
    {
     "data": {
      "text/latex": [
       "$\\displaystyle \\left[\\begin{matrix}1 & 0 & 0 & 0\\\\0 & 1 & 0 & 0\\\\0 & 0 & 1 & 0\\\\0 & 0 & 0 & 1\\end{matrix}\\right]$"
      ],
      "text/plain": [
       "[[1, 0, 0, 0], [0, 1, 0, 0], [0, 0, 1, 0], [0, 0, 0, 1]]"
      ]
     },
     "execution_count": 52,
     "metadata": {},
     "output_type": "execute_result"
    }
   ],
   "source": [
    "# Tensor contraction\n",
    "\n",
    "prod = sp.tensorproduct(g_ll, g_uu)\n",
    "sp.tensorcontraction(prod, (1, 2)) "
   ]
  },
  {
   "cell_type": "markdown",
   "metadata": {},
   "source": [
    "The contravariant metric times the covariant metric should give us the four dimensional unit matrix.\n",
    "$$ g^{\\mu\\alpha}g_{\\alpha\\nu}=\\delta^\\mu_\\nu=\\left(\\begin{array}{rrr} \n",
    "1 & 0 & 0 & 0 \\\\ \n",
    "0 & 1 & 0 & 0 \\\\ \n",
    "0 & 0 & 1 & 0 \\\\ \n",
    "0 & 0 & 0 & 1 \\\\ \n",
    "\\end{array}\\right)$$\n",
    "\n"
   ]
  },
  {
   "cell_type": "markdown",
   "metadata": {},
   "source": [
    "### Raising and lowering indices\n",
    "\n",
    "The covariant form of the spacetime position vector is $x^\\mu = (t,x,y,z)$. The contravariant form is obtained by multiplying with the metric tensor to lower the index. That is,\n",
    "\n",
    "$$\n",
    "x_\\mu=g_{\\mu\\nu}x^\\nu\n",
    "$$\n",
    "\n",
    "Note that the repeated index $\\nu$ is summed over according to Einstein's summation convention (i.e., there is $\\sum_{\\nu=0}^3$ omitted in front). This operation is just a $4 \\times 4$ matrix multiplying a $4$-component vector to yield another $4$-component vector.\n",
    "\n",
    "Similarly, raising an index is accomplished by\n",
    "\n",
    "$$\n",
    "x^\\mu=g^{\\mu\\nu} x_\\nu\n",
    "$$\n",
    "\n",
    "In this way, indices are raised and lowered by contracting with the metric tensor. Let's see how to perform these operations."
   ]
  },
  {
   "cell_type": "code",
   "execution_count": 53,
   "metadata": {},
   "outputs": [
    {
     "data": {
      "text/latex": [
       "$\\displaystyle \\left[\\begin{matrix}t & x & y & z\\end{matrix}\\right]$"
      ],
      "text/plain": [
       "[t, x, y, z]"
      ]
     },
     "execution_count": 53,
     "metadata": {},
     "output_type": "execute_result"
    }
   ],
   "source": [
    "# Define x with upper index (u)\n",
    "\n",
    "x_u = sp.Array([t, x, y, z]) \n",
    "x_u"
   ]
  },
  {
   "cell_type": "code",
   "execution_count": 54,
   "metadata": {},
   "outputs": [
    {
     "data": {
      "text/latex": [
       "$\\displaystyle \\left[\\begin{matrix}t & - x f^{2}{\\left(t \\right)} & - y f^{2}{\\left(t \\right)} & - z f^{2}{\\left(t \\right)}\\end{matrix}\\right]$"
      ],
      "text/plain": [
       "[t, -x*f(t)**2, -y*f(t)**2, -z*f(t)**2]"
      ]
     },
     "execution_count": 54,
     "metadata": {},
     "output_type": "execute_result"
    }
   ],
   "source": [
    "# Compute x with lower index (l)\n",
    "\n",
    "# Step 1: compute tensor product\n",
    "prod = sp.tensorproduct(g_ll, x_u) \n",
    "\n",
    "# Step 2: contraction\n",
    "x_l = sp.tensorcontraction(prod, (1, 2))\n",
    "x_l"
   ]
  },
  {
   "cell_type": "markdown",
   "metadata": {},
   "source": [
    "Performing the same steps to raise the index returns the original position vector."
   ]
  },
  {
   "cell_type": "code",
   "execution_count": 55,
   "metadata": {},
   "outputs": [
    {
     "data": {
      "text/latex": [
       "$\\displaystyle \\left[\\begin{matrix}t & x & y & z\\end{matrix}\\right]$"
      ],
      "text/plain": [
       "[t, x, y, z]"
      ]
     },
     "execution_count": 55,
     "metadata": {},
     "output_type": "execute_result"
    }
   ],
   "source": [
    "prod = sp.tensorproduct(g_uu, x_l) \n",
    "sp.tensorcontraction(prod, (1, 2))"
   ]
  },
  {
   "cell_type": "markdown",
   "metadata": {},
   "source": [
    "Tensor products can be arbitrarily complicated. For example, we have the product of three metric tensors, which is as object with *six* indices.\n",
    "\n",
    "$$\n",
    "g^{\\alpha\\beta}g_{\\gamma\\mu}g_{\\delta\\nu}\n",
    "$$\n",
    "\n",
    "If we contract $\\alpha = \\gamma$ (the first and third indices) and $\\beta = \\delta$ (the second and fourth indices), we have\n",
    "\n",
    "$$g^{\\alpha\\beta}g_{\\alpha\\mu}g_{\\beta\\nu} = g_{\\mu\\nu}$$\n",
    "\n",
    "That is, we start with $g^{\\alpha \\beta}$ and lower two indices using the metric tensor twice. \n",
    "We can check that this works explicitly."
   ]
  },
  {
   "cell_type": "code",
   "execution_count": 56,
   "metadata": {},
   "outputs": [
    {
     "data": {
      "text/latex": [
       "$\\displaystyle \\left[\\begin{matrix}1 & 0 & 0 & 0\\\\0 & - f^{2}{\\left(t \\right)} & 0 & 0\\\\0 & 0 & - f^{2}{\\left(t \\right)} & 0\\\\0 & 0 & 0 & - f^{2}{\\left(t \\right)}\\end{matrix}\\right]$"
      ],
      "text/plain": [
       "[[1, 0, 0, 0], [0, -f(t)**2, 0, 0], [0, 0, -f(t)**2, 0], [0, 0, 0, -f(t)**2]]"
      ]
     },
     "execution_count": 56,
     "metadata": {},
     "output_type": "execute_result"
    }
   ],
   "source": [
    "prod = sp.tensorproduct(g_uu, g_ll, g_ll)\n",
    "sp.tensorcontraction(prod, (0, 2), (1,4))"
   ]
  },
  {
   "cell_type": "markdown",
   "metadata": {},
   "source": [
    "This is the same as the metric tensor with two lower indices, given above."
   ]
  },
  {
   "cell_type": "code",
   "execution_count": 57,
   "metadata": {},
   "outputs": [
    {
     "data": {
      "text/latex": [
       "$\\displaystyle \\left[\\begin{matrix}1 & 0 & 0 & 0\\\\0 & - f^{2}{\\left(t \\right)} & 0 & 0\\\\0 & 0 & - f^{2}{\\left(t \\right)} & 0\\\\0 & 0 & 0 & - f^{2}{\\left(t \\right)}\\end{matrix}\\right]$"
      ],
      "text/plain": [
       "Matrix([\n",
       "[1,        0,        0,        0],\n",
       "[0, -f(t)**2,        0,        0],\n",
       "[0,        0, -f(t)**2,        0],\n",
       "[0,        0,        0, -f(t)**2]])"
      ]
     },
     "execution_count": 57,
     "metadata": {},
     "output_type": "execute_result"
    }
   ],
   "source": [
    "g_ll"
   ]
  },
  {
   "cell_type": "markdown",
   "metadata": {},
   "source": [
    "### Derivatives of tensors\n",
    "\n",
    "In GR, tensors are not fixed numbers in general but are *functions* of spacetime coordinates. That is, the components of a tensor can be functions of $t,x,y,z$. For example, in our discussion above, we assumed that the metric tensor was a function of $t$.\n",
    "\n",
    "Here we consider derivatives of tensors. In general, one needs to consider all partial derivatives \n",
    "\n",
    "$$\\frac{\\partial}{\\partial x^\\mu} = \\left( \\frac{\\partial}{\\partial t}, \\frac{\\partial}{\\partial x}, \\frac{\\partial}{\\partial y}, \\frac{\\partial}{\\partial z} \\right)$$\n",
    "\n",
    "This is often abbreviated as $\\partial_\\mu$. \n",
    "\n",
    "Here, since we only introduce dependence on time $t$, we need only consider time derivatives $\\partial/\\partial t$. This is often abbreviated as $\\partial_0$ or $\\partial_t$. Other derivatives $\\partial_x$, $\\partial_y$, $\\partial_z$ will yield zero.\n",
    "\n",
    "As an example, let's take the derivative of the metric tensor\n",
    "\n",
    "$$\\partial_\\alpha g_{\\mu \\nu}$$\n",
    "\n",
    "We have three indices, so we will get a 3-index object back. All of the components with $\\alpha \\ne 0$ will be zero."
   ]
  },
  {
   "cell_type": "code",
   "execution_count": 58,
   "metadata": {},
   "outputs": [
    {
     "data": {
      "text/latex": [
       "$\\displaystyle \\left[\\begin{matrix}\\left[\\begin{matrix}0 & 0 & 0 & 0\\\\0 & - 2 f{\\left(t \\right)} \\frac{d}{d t} f{\\left(t \\right)} & 0 & 0\\\\0 & 0 & - 2 f{\\left(t \\right)} \\frac{d}{d t} f{\\left(t \\right)} & 0\\\\0 & 0 & 0 & - 2 f{\\left(t \\right)} \\frac{d}{d t} f{\\left(t \\right)}\\end{matrix}\\right] & \\left[\\begin{matrix}0 & 0 & 0 & 0\\\\0 & 0 & 0 & 0\\\\0 & 0 & 0 & 0\\\\0 & 0 & 0 & 0\\end{matrix}\\right] & \\left[\\begin{matrix}0 & 0 & 0 & 0\\\\0 & 0 & 0 & 0\\\\0 & 0 & 0 & 0\\\\0 & 0 & 0 & 0\\end{matrix}\\right] & \\left[\\begin{matrix}0 & 0 & 0 & 0\\\\0 & 0 & 0 & 0\\\\0 & 0 & 0 & 0\\\\0 & 0 & 0 & 0\\end{matrix}\\right]\\end{matrix}\\right]$"
      ],
      "text/plain": [
       "[[[0, 0, 0, 0], [0, -2*f(t)*Derivative(f(t), t), 0, 0], [0, 0, -2*f(t)*Derivative(f(t), t), 0], [0, 0, 0, -2*f(t)*Derivative(f(t), t)]], [[0, 0, 0, 0], [0, 0, 0, 0], [0, 0, 0, 0], [0, 0, 0, 0]], [[0, 0, 0, 0], [0, 0, 0, 0], [0, 0, 0, 0], [0, 0, 0, 0]], [[0, 0, 0, 0], [0, 0, 0, 0], [0, 0, 0, 0], [0, 0, 0, 0]]]"
      ]
     },
     "execution_count": 58,
     "metadata": {},
     "output_type": "execute_result"
    }
   ],
   "source": [
    "g_ll.diff(x_u) # the metric only depends on t, so all derivatives by x, y or z are 0"
   ]
  },
  {
   "cell_type": "markdown",
   "metadata": {},
   "source": [
    "If we just want the time derivative, we can compute $\\partial_t g_{\\mu\\nu}$ in two equivalent ways (i.e., setting $\\alpha = 0$).\n",
    "\n",
    "\n",
    "\n"
   ]
  },
  {
   "cell_type": "code",
   "execution_count": 59,
   "metadata": {},
   "outputs": [
    {
     "data": {
      "text/latex": [
       "$\\displaystyle \\left[\\begin{matrix}0 & 0 & 0 & 0\\\\0 & - 2 f{\\left(t \\right)} \\frac{d}{d t} f{\\left(t \\right)} & 0 & 0\\\\0 & 0 & - 2 f{\\left(t \\right)} \\frac{d}{d t} f{\\left(t \\right)} & 0\\\\0 & 0 & 0 & - 2 f{\\left(t \\right)} \\frac{d}{d t} f{\\left(t \\right)}\\end{matrix}\\right]$"
      ],
      "text/plain": [
       "Matrix([\n",
       "[0,                           0,                           0,                           0],\n",
       "[0, -2*f(t)*Derivative(f(t), t),                           0,                           0],\n",
       "[0,                           0, -2*f(t)*Derivative(f(t), t),                           0],\n",
       "[0,                           0,                           0, -2*f(t)*Derivative(f(t), t)]])"
      ]
     },
     "execution_count": 59,
     "metadata": {},
     "output_type": "execute_result"
    }
   ],
   "source": [
    "g_ll.diff(x_u[0])"
   ]
  },
  {
   "cell_type": "code",
   "execution_count": 60,
   "metadata": {},
   "outputs": [
    {
     "data": {
      "text/latex": [
       "$\\displaystyle \\left[\\begin{matrix}0 & 0 & 0 & 0\\\\0 & - 2 f{\\left(t \\right)} \\frac{d}{d t} f{\\left(t \\right)} & 0 & 0\\\\0 & 0 & - 2 f{\\left(t \\right)} \\frac{d}{d t} f{\\left(t \\right)} & 0\\\\0 & 0 & 0 & - 2 f{\\left(t \\right)} \\frac{d}{d t} f{\\left(t \\right)}\\end{matrix}\\right]$"
      ],
      "text/plain": [
       "Matrix([\n",
       "[0,                           0,                           0,                           0],\n",
       "[0, -2*f(t)*Derivative(f(t), t),                           0,                           0],\n",
       "[0,                           0, -2*f(t)*Derivative(f(t), t),                           0],\n",
       "[0,                           0,                           0, -2*f(t)*Derivative(f(t), t)]])"
      ]
     },
     "execution_count": 60,
     "metadata": {},
     "output_type": "execute_result"
    }
   ],
   "source": [
    "g_ll.diff(t)"
   ]
  },
  {
   "cell_type": "markdown",
   "metadata": {},
   "source": [
    "We can also compute a second derivative, e.g., $\\partial_t^2 g_{\\mu\\nu}$\n",
    "\n"
   ]
  },
  {
   "cell_type": "code",
   "execution_count": 61,
   "metadata": {
    "scrolled": true
   },
   "outputs": [
    {
     "data": {
      "text/latex": [
       "$\\displaystyle \\left[\\begin{matrix}0 & 0 & 0 & 0\\\\0 & - 2 \\left(f{\\left(t \\right)} \\frac{d^{2}}{d t^{2}} f{\\left(t \\right)} + \\left(\\frac{d}{d t} f{\\left(t \\right)}\\right)^{2}\\right) & 0 & 0\\\\0 & 0 & - 2 \\left(f{\\left(t \\right)} \\frac{d^{2}}{d t^{2}} f{\\left(t \\right)} + \\left(\\frac{d}{d t} f{\\left(t \\right)}\\right)^{2}\\right) & 0\\\\0 & 0 & 0 & - 2 \\left(f{\\left(t \\right)} \\frac{d^{2}}{d t^{2}} f{\\left(t \\right)} + \\left(\\frac{d}{d t} f{\\left(t \\right)}\\right)^{2}\\right)\\end{matrix}\\right]$"
      ],
      "text/plain": [
       "Matrix([\n",
       "[0,                                                           0,                                                           0,                                                           0],\n",
       "[0, -2*(f(t)*Derivative(f(t), (t, 2)) + Derivative(f(t), t)**2),                                                           0,                                                           0],\n",
       "[0,                                                           0, -2*(f(t)*Derivative(f(t), (t, 2)) + Derivative(f(t), t)**2),                                                           0],\n",
       "[0,                                                           0,                                                           0, -2*(f(t)*Derivative(f(t), (t, 2)) + Derivative(f(t), t)**2)]])"
      ]
     },
     "execution_count": 61,
     "metadata": {},
     "output_type": "execute_result"
    }
   ],
   "source": [
    "g_ll.diff(x_u[0], 2)"
   ]
  }
 ],
 "metadata": {
  "kernelspec": {
   "display_name": "Python 3",
   "language": "python",
   "name": "python3"
  },
  "language_info": {
   "codemirror_mode": {
    "name": "ipython",
    "version": 3
   },
   "file_extension": ".py",
   "mimetype": "text/x-python",
   "name": "python",
   "nbconvert_exporter": "python",
   "pygments_lexer": "ipython3",
   "version": "3.7.6"
  }
 },
 "nbformat": 4,
 "nbformat_minor": 4
}
