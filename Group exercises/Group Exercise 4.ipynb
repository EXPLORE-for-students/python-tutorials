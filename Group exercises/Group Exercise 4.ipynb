{
 "cells": [
  {
   "cell_type": "markdown",
   "id": "a6dce0ac",
   "metadata": {},
   "source": [
    "# Cosmology of an Accelerating Universe\n",
    "\n",
    "Introductory background: [Supernovae, Dark Energy, and the\n",
    "Accelerating Universe](https://supernova.lbl.gov/PDFs/PhysicsTodayArticle.pdf)\n",
    "\n",
    "References: For more information about the dataset used in this exercise, see the following.\n",
    "- [Amanullah et al. (2010)](https://arxiv.org/pdf/1004.1711.pdf)\n",
    "- [Sukuki et al. (2011)](https://arxiv.org/pdf/1105.3470.pdf)\n",
    "\n",
    "## Background\n",
    "\n",
    "In this exercise, you will use data from supernovae to constrain the cosmology of the Universe. For each supernova, the main observables are:\n",
    "- Redshift $z$, which tells the supernova's relative velocity to us. \n",
    "- The supernova light curve, i.e., how bright it is as a function of time. Type Ia supernova appear to be \"standard candles\" so that by measuring their brightness, one can infer how far away they are.\n",
    "\n",
    "Analyzing the relationship between redshift vs distance, one can gain an understanding of the expansion of the Universe, which in turn is related to the amount of matter and dark energy, according to the following formula\n",
    "\n",
    "$$d_L(z) = d_H \\, (1+z) \\int_0^z \\frac{dz^\\prime}{\\sqrt{\\Omega_m (1+z^\\prime)^3 + \\Omega_\\Lambda}} \\; , \\qquad (1)$$\n",
    "\n",
    "where $d_L$ is a measure of distance (luminosity distance), $d_H$ is constant known as the Hubble length, $\\Omega_m$ and $\\Omega_\\Lambda$ are the total fractions of matter and dark energy, respectively. Eq. (1) assumes that the Universe has a flat spatial geometry (inferred from observations of the cosmic microwave background), so we assume that $\\Omega_\\Lambda = 1 - \\Omega_m$. The Hubble distance is related to the famous Hubble constant $H_0$ by\n",
    "\n",
    "$$d_H = \\frac{c}{H_0} \\approx 3 \\times 10^9 \\; {\\rm parsecs} \\times h^{-1}$$\n",
    "\n",
    "where $c$ is the speed of light. It is customary to parametrize $H_0$ in terms of a parameter $h$, which is known to be around 0.7.\n",
    "\n",
    "Hubble's analysis in 1929 considered Cepheid variable stars (another standard candle) in nearby galaxies, $z \\approx 0$. In this limit\n",
    "\n",
    "$$d_L(z) \\approx d_H z \\qquad (2) \\, .$$\n",
    "\n",
    "Eq. (2) can be rearranged as\n",
    "\n",
    "$$H_0 d_L \\approx c z  \\approx v \\, ,$$\n",
    "\n",
    "where $v$ is velocity (along the line of sight). Thus, $v \\propto d_L$ and the constant of proportionality $H_0$ is named in honor of Hubble (although it was first determined by Lemaitre, whose similar work predated Hubble's by two years).\n",
    "\n",
    "For distant objects, such as supernovae, $d_L$ is given by a more complicated function in Eq. (1) and one can extract more information than just $H_0$. The goal of this Exercise is to determine $\\Omega_\\Lambda$, showing that dark energy does indeed exist by finding that $\\Omega_\\Lambda > 0$.\n",
    "\n",
    "We will use the supernova dataset provided by Suzuki et al. (2011). The code below loads the dataset as a pandas dataframe. The columns provided are:\n",
    "- Name of the supernova (`'name'`)\n",
    "- Redshift `'z'`\n",
    "- Distance modulus (`'mu'`)\n",
    "- Error on the distance modulus (`'mu_err'`)\n",
    "- Last column is not important for this analysis\n",
    "\n",
    "The distance modulus $\\mu$ is a way to express distance that is commonly used in astronomy. It is related to $d_L$ by the formula\n",
    "\n",
    "$$d_L = (10 \\; {\\rm parsecs}) \\times 10^{\\mu/5} \\, .$$\n",
    "\n"
   ]
  },
  {
   "cell_type": "code",
   "execution_count": 1,
   "id": "96e24ece",
   "metadata": {},
   "outputs": [],
   "source": [
    "import pandas as pd\n",
    "import numpy as np\n",
    "import matplotlib.pyplot as plt\n",
    "\n",
    "url = \"https://supernova.lbl.gov/Union/figures/SCPUnion2.1_mu_vs_z.txt\"\n",
    "data = pd.read_csv(url, header=None, skiprows=5, sep='\\t', names=['name','z','mu','mu_err','NA'])"
   ]
  },
  {
   "cell_type": "markdown",
   "id": "a4fdb034",
   "metadata": {},
   "source": [
    "## Part I: Plotting the data\n",
    "\n",
    "It is always a good idea to look at your data before you try any analysis. Make an error bar plot of $\\mu$ as a function of $z$. Use a log scale on the x-axis (and a linear scale on the y-axis). \n",
    "\n",
    "On the same plot, plot Hubble's Law given in Eq. (2). (You will need to express Hubble's Law in terms of $\\mu$.) Take $h=0.738$, which comes from a [recent analysis of Cepheid variable stars](https://arxiv.org/pdf/1103.2976.pdf).\n",
    "\n",
    "Include labels and a legend for your plot."
   ]
  },
  {
   "cell_type": "code",
   "execution_count": 2,
   "id": "0a80d61a",
   "metadata": {},
   "outputs": [],
   "source": [
    "# Your code here"
   ]
  },
  {
   "cell_type": "markdown",
   "id": "d0e6d616",
   "metadata": {},
   "source": [
    "## Part II: Calculate the distance\n",
    "\n",
    "Create an array of redshifts according to the following:\n",
    "```py\n",
    "z_grid = np.linspace(min(data['z']),max(data['z']))\n",
    "```\n",
    "For $\\Omega_m = 0.3$, calculate an array distance moduli $\\mu(z)$ for each $z$ in `z_grid`. Using your arrays for $\\mu$ and $z$, create an interpolating function `mu_interp` as a function of $z$.\n",
    "\n",
    "Repeat your previous plot from Part I with an additional curve:\n",
    "```py\n",
    "z = np.linspace(min(data['z']),max(data['z']),num=1000)\n",
    "plt.plot(z,mu_interp(z))\n",
    "```\n",
    "\n",
    "(Note: `z` has more points than `z_grid` so that the interpolation is actually doing something other than returning your original grid.)\n"
   ]
  },
  {
   "cell_type": "code",
   "execution_count": 3,
   "id": "ba8f6770",
   "metadata": {},
   "outputs": [],
   "source": [
    "# Your code here"
   ]
  },
  {
   "cell_type": "markdown",
   "id": "1cbabc5e",
   "metadata": {},
   "source": [
    "## Part III: Dark energy\n",
    "\n",
    "Generalize your result from Part II as follows. Create a function `chi_sq(Omega_Lambda)` that takes $\\Omega_\\Lambda$ as an input and does the following:\n",
    "- Sets $\\Omega_m = 1 - \\Omega_\\Lambda$\n",
    "- Generates an interpolating function `mu_interp(z)`, as in Part II.\n",
    "- Calculates the $\\chi^2$\n",
    "$$\\chi^2 = \\sum_i \\left(\\frac{\\mu_{\\rm interp}(z_i) - \\mu_i}{\\delta_i}\\right)^2$$\n",
    "where the sum runs over the data points, labeled by $i$, where $z_i$, $\\mu_i$, $\\delta_i$ are the redshift, distance modulus, and error for each data point.\n",
    "- Make a grid in $\\Omega_\\Lambda$ between \\[0,1\\] and (looping over your grid in $\\Omega_\\Lambda$), determine the $\\chi^2$ for each value of $\\Omega_\\Lambda$. Use your result to make a plot of $\\chi^2$ as a function of $\\Omega_\\Lambda$. \n",
    "- Determine the best-fitting value of $\\Omega_\\Lambda$, i.e., the value of $\\Omega_\\Lambda$ that makes the $\\chi^2$ the smallest."
   ]
  },
  {
   "cell_type": "code",
   "execution_count": 4,
   "id": "25f9d236",
   "metadata": {},
   "outputs": [],
   "source": [
    "# Your code here"
   ]
  }
 ],
 "metadata": {
  "kernelspec": {
   "display_name": "Python 3 (ipykernel)",
   "language": "python",
   "name": "python3"
  },
  "language_info": {
   "codemirror_mode": {
    "name": "ipython",
    "version": 3
   },
   "file_extension": ".py",
   "mimetype": "text/x-python",
   "name": "python",
   "nbconvert_exporter": "python",
   "pygments_lexer": "ipython3",
   "version": "3.9.12"
  }
 },
 "nbformat": 4,
 "nbformat_minor": 5
}
